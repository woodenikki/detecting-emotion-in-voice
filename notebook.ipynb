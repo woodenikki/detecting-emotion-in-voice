{
 "cells": [
  {
   "cell_type": "markdown",
   "id": "ee8e963c",
   "metadata": {},
   "source": [
    "# MoodWave: Voice-Driven Emotion Detection"
   ]
  },
  {
   "cell_type": "markdown",
   "id": "273d2960",
   "metadata": {},
   "source": [
    "## Data Guidelines\n",
    "\n",
    "Your dataset must be:\n",
    "\n",
    "- Appropriate for classification. It should have a categorical outcome or the data needed to engineer one.\n",
    "\n",
    "- Usable to solve a specific business problem. This solution must rely on your classification model.\n",
    "\n",
    "- Somewhat complex. It should contain a minimum of 1000 rows and 10 features.\n",
    "\n",
    "- Unfamiliar. It can't be one we've already worked with during the course or that is commonly used for demonstration purposes (e.g. Titanic).\n",
    "\n",
    "- Manageable. Stick to datasets that you can model using the techniques introduced in Phase 3.\n"
   ]
  },
  {
   "cell_type": "markdown",
   "id": "50fe5cff",
   "metadata": {},
   "source": [
    "### Phase 3 Concepts used in this project:\n",
    "\n",
    "- Logistic Regression:\n",
    "\n",
    "> Logistic regression is a fundamental classification algorithm that's well-suited for binary and multiclass classification tasks. It's a good choice if your dataset has clear decision boundaries.\n",
    "\n",
    "- Decision Trees:\n",
    "\n",
    "> Decision trees are versatile and interpretable models that can handle both categorical and continuous data. They are particularly useful when you want to understand the decision-making process of your model.\n",
    "\n",
    "- Evaluation Metrics (Confusion Matrices, ROC Curves, AUC):\n",
    "\n",
    "> These metrics are essential for assessing the performance of your classification model. They will help you understand how well your model distinguishes between different emotional states.\n",
    "\n",
    "- Hyperparameter Tuning and Pruning:\n",
    "\n",
    "> When using decision trees, tuning hyperparameters and pruning are important to avoid overfitting and to ensure your model generalizes well to new data."
   ]
  },
  {
   "cell_type": "markdown",
   "id": "16019831",
   "metadata": {},
   "source": [
    "## Data Preperation\n",
    "\n",
    "Here 4 most popular datasets in English: Crema, Ravdess, Savee and Tess. Each of them contains audio in .wav format with some main labels.\n",
    "\n",
    "Because our data isn't inherinantly in a csv / dataframe format, we will have to create it from scratch!\n",
    "\n",
    "First, we will pull all data into their own dataframe, making note of *where* the file is, so we can pull our features from each audio file:\n",
    "\n",
    "- Mel-frequency cepstral coefficients (MFCCs)\n",
    "- Spectral centroid\n",
    "- Chroma features\n",
    "- Zero-crossing rate\n",
    "- RMS energy\n",
    "- Pitch\n",
    "\n",
    "And then of course, our target feature: **Emotion**"
   ]
  },
  {
   "cell_type": "code",
   "execution_count": 2,
   "id": "8ead1716",
   "metadata": {},
   "outputs": [],
   "source": [
    "import pandas as pd\n",
    "import numpy as np\n",
    "import warnings\n",
    "import zipfile\n",
    "import librosa\n",
    "import random\n",
    "import os\n",
    "\n",
    "import seaborn as sns\n",
    "import matplotlib.pyplot as plt\n",
    "\n",
    "from sklearn.metrics import accuracy_score, confusion_matrix, classification_report\n",
    "from sklearn.feature_selection import VarianceThreshold\n",
    "from sklearn.model_selection import train_test_split\n",
    "from sklearn.preprocessing import PolynomialFeatures\n",
    "from sklearn.linear_model import LogisticRegression\n",
    "from sklearn.tree import DecisionTreeClassifier\n",
    "from sklearn.model_selection import GridSearchCV\n",
    "from sklearn.preprocessing import StandardScaler\n",
    "from sklearn.utils import resample\n",
    "from imblearn.over_sampling import SMOTE\n",
    "from collections import Counter\n"
   ]
  },
  {
   "cell_type": "code",
   "execution_count": 3,
   "id": "1b6f9ac1",
   "metadata": {},
   "outputs": [],
   "source": [
    "# data is zipped, and stored in folders for which dataset they came from:\n",
    "\n",
    "# Define the path to the zipped dataset\n",
    "zip_file_path = 'dataset.zip'\n",
    "extracted_folder_path = 'dataset'\n",
    "\n",
    "# Unzip the dataset\n",
    "with zipfile.ZipFile(zip_file_path, 'r') as zip_ref:\n",
    "    zip_ref.extractall(extracted_folder_path)\n",
    "\n",
    "# Crema\n",
    "# Ravdess\n",
    "# Savee\n",
    "# Tess"
   ]
  },
  {
   "cell_type": "code",
   "execution_count": 4,
   "id": "977b7a1b",
   "metadata": {},
   "outputs": [
    {
     "name": "stdout",
     "output_type": "stream",
     "text": [
      "              filename  emotion           path\n",
      "0  1001_DFA_ANG_XX.wav    angry  dataset\\Crema\n",
      "1  1001_DFA_DIS_XX.wav  disgust  dataset\\Crema\n",
      "2  1001_DFA_FEA_XX.wav     fear  dataset\\Crema\n",
      "3  1001_DFA_HAP_XX.wav    happy  dataset\\Crema\n",
      "4  1001_DFA_NEU_XX.wav  neutral  dataset\\Crema\n"
     ]
    }
   ],
   "source": [
    "# Define the path to the Crema folder\n",
    "crema_folder_path = os.path.join(extracted_folder_path, 'Crema')\n",
    "\n",
    "# Verify that we can access the files and extract emotion labels\n",
    "data = []\n",
    "\n",
    "# Loop through each file in the Crema folder\n",
    "for file_name in os.listdir(crema_folder_path):\n",
    "    if file_name.endswith('.wav'):\n",
    "        # Extract the emotion label from the filename\n",
    "        parts = file_name.split('_')\n",
    "        emotion_code = parts[2]\n",
    "        \n",
    "        # Map the emotion code to the actual emotion label\n",
    "        emotion_map = {\n",
    "            'SAD': 'sadness',\n",
    "            'ANG': 'angry',\n",
    "            'DIS': 'disgust',\n",
    "            'FEA': 'fear',\n",
    "            'HAP': 'happy',\n",
    "            'NEU': 'neutral'\n",
    "        }\n",
    "        emotion_label = emotion_map.get(emotion_code, 'unknown')\n",
    "        \n",
    "        # Store the data with the directory path minus the filename\n",
    "        data.append({'filename': file_name, 'emotion': emotion_label, 'path': crema_folder_path})\n",
    "\n",
    "# Convert the data into a DataFrame for easy access\n",
    "df_crema = pd.DataFrame(data)\n",
    "\n",
    "# Display the first few rows to verify\n",
    "print(df_crema.head())"
   ]
  },
  {
   "cell_type": "code",
   "execution_count": 5,
   "id": "f312be8a",
   "metadata": {},
   "outputs": [
    {
     "name": "stdout",
     "output_type": "stream",
     "text": [
      "             filename emotion                    path\n",
      "0  OAF_back_angry.wav   angry  dataset\\Tess\\OAF_angry\n",
      "1   OAF_bar_angry.wav   angry  dataset\\Tess\\OAF_angry\n",
      "2  OAF_base_angry.wav   angry  dataset\\Tess\\OAF_angry\n",
      "3  OAF_bath_angry.wav   angry  dataset\\Tess\\OAF_angry\n",
      "4  OAF_bean_angry.wav   angry  dataset\\Tess\\OAF_angry\n"
     ]
    }
   ],
   "source": [
    "# Define the path to the Tess folder\n",
    "tess_folder_path = os.path.join(extracted_folder_path, 'Tess')\n",
    "\n",
    "# Prepare to store the data\n",
    "data = []\n",
    "\n",
    "# Loop through each emotion folder in the Tess directory\n",
    "for emotion_folder in os.listdir(tess_folder_path):\n",
    "    # Get the full path to the emotion folder\n",
    "    emotion_folder_path = os.path.join(tess_folder_path, emotion_folder)\n",
    "    \n",
    "    # Extract the emotion from the folder name (e.g., \"OAF_angry\" -> \"angry\")\n",
    "    emotion_label = emotion_folder.split('_')[1]\n",
    "    \n",
    "    # Loop through each file in the emotion folder\n",
    "    for file_name in os.listdir(emotion_folder_path):\n",
    "        if file_name.endswith('.wav'):\n",
    "            # Store the data with the directory path minus the filename\n",
    "            data.append({\n",
    "                'filename': file_name, \n",
    "                'emotion': emotion_label, \n",
    "                'path': emotion_folder_path\n",
    "            })\n",
    "\n",
    "# Convert the data into a DataFrame for easy access\n",
    "df_tess = pd.DataFrame(data)\n",
    "\n",
    "# Display the first few rows to verify\n",
    "print(df_tess.head())"
   ]
  },
  {
   "cell_type": "code",
   "execution_count": 6,
   "id": "28fbe0c6",
   "metadata": {},
   "outputs": [
    {
     "name": "stdout",
     "output_type": "stream",
     "text": [
      "     filename  emotion           path\n",
      "0  DC_a01.wav  unknown  dataset\\Savee\n",
      "1  DC_a02.wav  unknown  dataset\\Savee\n",
      "2  DC_a03.wav  unknown  dataset\\Savee\n",
      "3  DC_a04.wav  unknown  dataset\\Savee\n",
      "4  DC_a05.wav  unknown  dataset\\Savee\n"
     ]
    }
   ],
   "source": [
    "# Define the path to the Savee folder\n",
    "savee_folder_path = os.path.join(extracted_folder_path, 'Savee')\n",
    "\n",
    "# Prepare to store the data\n",
    "data = []\n",
    "\n",
    "# Define the emotion mapping based on the prefixes\n",
    "emotion_map = {\n",
    "    'a': 'anger',\n",
    "    'd': 'disgust',\n",
    "    'f': 'fear',\n",
    "    'h': 'happiness',\n",
    "    'n': 'neutral',\n",
    "    'sa': 'sadness',\n",
    "    'su': 'surprise'\n",
    "}\n",
    "\n",
    "# Loop through each file in the Savee folder\n",
    "for file_name in os.listdir(savee_folder_path):\n",
    "    if file_name.endswith('.wav'):\n",
    "        # Extract the prefix from the filename to determine the emotion\n",
    "        prefix = file_name.split('_')[1][:2]\n",
    "        \n",
    "        # Map the prefix to the corresponding emotion\n",
    "        emotion_label = emotion_map.get(prefix, 'unknown')\n",
    "        \n",
    "        # Store the data with the directory path minus the filename\n",
    "        data.append({\n",
    "            'filename': file_name, \n",
    "            'emotion': emotion_label, \n",
    "            'path': savee_folder_path\n",
    "        })\n",
    "\n",
    "# Convert the data into a DataFrame for easy access\n",
    "df_savee = pd.DataFrame(data)\n",
    "\n",
    "# Display the first few rows to verify\n",
    "print(df_savee.head())"
   ]
  },
  {
   "cell_type": "code",
   "execution_count": 7,
   "id": "47d8e747",
   "metadata": {},
   "outputs": [
    {
     "name": "stdout",
     "output_type": "stream",
     "text": [
      "                   filename  emotion  \\\n",
      "0  03-01-01-01-01-01-01.wav  neutral   \n",
      "1  03-01-01-01-01-02-01.wav  neutral   \n",
      "2  03-01-01-01-02-01-01.wav  neutral   \n",
      "3  03-01-01-01-02-02-01.wav  neutral   \n",
      "4  03-01-02-01-01-01-01.wav     calm   \n",
      "\n",
      "                                                path  \n",
      "0  dataset\\Ravdess\\audio_speech_actors_01-24\\Acto...  \n",
      "1  dataset\\Ravdess\\audio_speech_actors_01-24\\Acto...  \n",
      "2  dataset\\Ravdess\\audio_speech_actors_01-24\\Acto...  \n",
      "3  dataset\\Ravdess\\audio_speech_actors_01-24\\Acto...  \n",
      "4  dataset\\Ravdess\\audio_speech_actors_01-24\\Acto...  \n"
     ]
    }
   ],
   "source": [
    "# Define the path to the Ravdess folder\n",
    "ravdess_folder_path = os.path.join(extracted_folder_path, 'Ravdess', 'audio_speech_actors_01-24')\n",
    "\n",
    "# Prepare to store the data\n",
    "data = []\n",
    "\n",
    "# Define the emotion mapping based on the third component in the filename\n",
    "emotion_map = {\n",
    "    '01': 'neutral',\n",
    "    '02': 'calm',\n",
    "    '03': 'happy',\n",
    "    '04': 'sad',\n",
    "    '05': 'angry',\n",
    "    '06': 'fearful',\n",
    "    '07': 'disgust',\n",
    "    '08': 'surprised'\n",
    "}\n",
    "\n",
    "# Loop through each actor's folder in the Ravdess directory\n",
    "for actor_folder in os.listdir(ravdess_folder_path):\n",
    "    actor_folder_path = os.path.join(ravdess_folder_path, actor_folder)\n",
    "    \n",
    "    # Loop through each file in the actor's folder\n",
    "    for file_name in os.listdir(actor_folder_path):\n",
    "        if file_name.endswith('.wav'):\n",
    "            # Extract the third component from the filename to determine the emotion\n",
    "            emotion_code = file_name.split('-')[2]\n",
    "            \n",
    "            # Map the emotion code to the corresponding emotion label\n",
    "            emotion_label = emotion_map.get(emotion_code, 'unknown')\n",
    "            \n",
    "            # Store the data with the directory path minus the filename\n",
    "            data.append({\n",
    "                'filename': file_name, \n",
    "                'emotion': emotion_label, \n",
    "                'path': actor_folder_path\n",
    "            })\n",
    "\n",
    "# Convert the data into a DataFrame for easy access\n",
    "df_ravdess = pd.DataFrame(data)\n",
    "\n",
    "# Display the first few rows to verify\n",
    "print(df_ravdess.head())"
   ]
  },
  {
   "cell_type": "markdown",
   "id": "6dccdb8c",
   "metadata": {},
   "source": [
    "### Combining datasets \n",
    "\n",
    "We will merge the datsets into one dataframe, and assign unique identifiers\n",
    "- Concatenate the DataFrames for each dataset.\n",
    "- Assign a unique ID to each entry based on the dataset."
   ]
  },
  {
   "cell_type": "code",
   "execution_count": 8,
   "id": "d1f9600c",
   "metadata": {},
   "outputs": [
    {
     "name": "stdout",
     "output_type": "stream",
     "text": [
      "       id             filename  emotion           path\n",
      "0  c_0001  1001_DFA_ANG_XX.wav    angry  dataset\\Crema\n",
      "1  c_0002  1001_DFA_DIS_XX.wav  disgust  dataset\\Crema\n",
      "2  c_0003  1001_DFA_FEA_XX.wav     fear  dataset\\Crema\n",
      "3  c_0004  1001_DFA_HAP_XX.wav    happy  dataset\\Crema\n",
      "4  c_0005  1001_DFA_NEU_XX.wav  neutral  dataset\\Crema\n"
     ]
    }
   ],
   "source": [
    "# Add a unique ID column to each dataset\n",
    "df_crema['id'] = ['c_{:04d}'.format(i + 1) for i in range(len(df_crema))]\n",
    "df_tess['id'] = ['t_{:04d}'.format(i + 1) for i in range(len(df_tess))]\n",
    "df_savee['id'] = ['s_{:04d}'.format(i + 1) for i in range(len(df_savee))]\n",
    "df_ravdess['id'] = ['r_{:04d}'.format(i + 1) for i in range(len(df_ravdess))]\n",
    "\n",
    "# Merge the datasets into a single DataFrame\n",
    "merged_data = pd.concat([df_crema, df_tess, df_savee, df_ravdess], ignore_index=True)\n",
    "\n",
    "# Reorder columns to have 'id' as the first column\n",
    "merged_data = merged_data[['id', 'filename', 'emotion', 'path']]\n",
    "\n",
    "# Display the first few rows of the combined DataFrame\n",
    "print(merged_data.head())"
   ]
  },
  {
   "cell_type": "code",
   "execution_count": 9,
   "id": "083504fd",
   "metadata": {},
   "outputs": [
    {
     "name": "stdout",
     "output_type": "stream",
     "text": [
      "Total rows in dataset: 12162\n"
     ]
    }
   ],
   "source": [
    "# remember, we need at least 1000 rows to meet our requirements. \n",
    "print(f\"Total rows in dataset: {merged_data.shape[0]}\")"
   ]
  },
  {
   "cell_type": "markdown",
   "id": "48ec3b5d",
   "metadata": {},
   "source": [
    "### Extracting Features\n",
    "\n",
    "Again, these are the features we will extract:\n",
    "\n",
    "- **Mel-frequency cepstral coefficients (MFCCs):** Represents the short-term power spectrum of sound, commonly used in speech and audio processing to capture the timbral texture of audio.\n",
    "- **Spectral centroid:** Indicates the \"center of mass\" of the spectrum and is often associated with the perceived brightness of a sound.\n",
    "- **Chroma features:** Represents the 12 different pitch classes and captures harmonic and melodic characteristics of music / voice.\n",
    "- **Zero-crossing rate:** Measures the rate at which the signal changes sign, giving insight into the noisiness or percussiveness of the sound.\n",
    "- **RMS energy:** Reflects the root mean square of the audio signal and indicates the energy or loudness of the sound.\n",
    "- **Pitch:** Refers to the perceived frequency of a sound, determining how high or low a sound is.\n",
    "\n",
    "We will be using the `librosa` package to process these audio features. [Here](https://librosa.org/doc/latest/index.html) is a link to the librosa documentation.\n",
    "\n",
    "**Note**: adding suppression for *UserWarning: Trying to estimate tuning from empty frequency set*. This is likely do to either:* **silence / low energy** (too quiet to perform reliable pitch estimation), or the file had **too short of a duration**. This warning shows up even when setting the pitch to 0 in this case.\n"
   ]
  },
  {
   "cell_type": "code",
   "execution_count": 10,
   "id": "7ab7d18c",
   "metadata": {},
   "outputs": [],
   "source": [
    "def extract_features(data, sr=None, from_file=True):\n",
    "    if from_file:\n",
    "        # If data is a file path, load the audio file\n",
    "        y, sr = librosa.load(data, sr=sr)\n",
    "    else:\n",
    "        # If data is already an audio array\n",
    "        y = data\n",
    "\n",
    "    # Check if the audio is empty\n",
    "    if len(y) == 0:\n",
    "        print(f\"Warning: The file {data} is empty.\")\n",
    "        return (np.nan, np.nan, np.nan, np.nan, np.nan, np.nan)\n",
    "\n",
    "    # Extract features\n",
    "    mfccs = librosa.feature.mfcc(y=y, sr=sr, n_mfcc=13)\n",
    "    mfccs_mean = np.mean(mfccs.T, axis=0)\n",
    "\n",
    "    spectral_centroid = np.mean(librosa.feature.spectral_centroid(y=y, sr=sr).T, axis=0)\n",
    "    chroma = np.mean(librosa.feature.chroma_stft(y=y, sr=sr).T, axis=0)\n",
    "    zero_crossing_rate = np.mean(librosa.feature.zero_crossing_rate(y).T, axis=0)\n",
    "    rms = np.mean(librosa.feature.rms(y=y).T, axis=0)\n",
    "\n",
    "    pitches, magnitudes = librosa.piptrack(y=y, sr=sr)\n",
    "    pitch = np.mean(pitches[pitches > 0]) if np.any(pitches > 0) else np.nan\n",
    "\n",
    "    # Return the features\n",
    "    return (mfccs_mean, spectral_centroid, chroma, zero_crossing_rate, rms, pitch)\n"
   ]
  },
  {
   "cell_type": "code",
   "execution_count": 11,
   "id": "13eeb6e0",
   "metadata": {},
   "outputs": [
    {
     "name": "stdout",
     "output_type": "stream",
     "text": [
      "MFCCs Mean: [-306.0274       92.670235      8.491312     23.965403      7.4779935\n",
      "   -5.759455    -11.883088     -9.676736     -3.9967465   -13.352565\n",
      "    0.40819725   -9.709486     -6.1271243 ]\n",
      "Spectral Centroid: [1584.99307033]\n",
      "Chroma Features: [0.37491405 0.37949282 0.41722107 0.39018238 0.4148401  0.2977837\n",
      " 0.28898865 0.3575554  0.35190624 0.42918485 0.6879576  0.5454907 ]\n",
      "Zero-Crossing Rate: [0.10186768]\n",
      "RMS Energy: [0.04198619]\n",
      "Pitch: 1211.9507\n"
     ]
    }
   ],
   "source": [
    "# testing our extract_features function:\n",
    "first_row = merged_data.iloc[0]\n",
    "file_path = os.path.join(first_row['path'], first_row['filename'])\n",
    "\n",
    "# Extract features directly from the file path\n",
    "features = extract_features(file_path)\n",
    "\n",
    "# Print out each feature with its corresponding values\n",
    "print(\"MFCCs Mean:\", features[0])\n",
    "print(\"Spectral Centroid:\", features[1])\n",
    "print(\"Chroma Features:\", features[2])\n",
    "print(\"Zero-Crossing Rate:\", features[3])\n",
    "print(\"RMS Energy:\", features[4])\n",
    "print(\"Pitch:\", features[5])"
   ]
  },
  {
   "cell_type": "markdown",
   "id": "0f041f20",
   "metadata": {},
   "source": [
    "### Validating the Values:\n",
    "\n",
    "- **MFCCs:** Typically, MFCC values range from -400 to 400, depending on the scale of the input signal.\n",
    "> All values: **pass**\n",
    "\n",
    "- **Spectral Centroid:** This value represents the \"center of mass\" of the spectrum and typically ranges between 0 and the - Nyquist frequency (half the sampling rate).\n",
    "> 1584.99: **pass**\n",
    "\n",
    "- **Chroma Features:** These represent the energy distribution across 12 pitch classes. They are normalized, so values between 0 and 1 are expected.\n",
    "> All values: **pass**\n",
    "\n",
    "- **Zero-Crossing Rate:** This rate indicates how frequently the signal changes sign. It ranges from 0 to 1. \n",
    "> 0.1018: **pass**\n",
    "\n",
    "- **RMS Energy:** This value should be within the range of 0 to 1 for normalized signals.\n",
    "> 0.0419: **pass**\n",
    "\n",
    "- **Pitch:** Pitch values are measured in Hz, and depends on the type of audio.\n",
    "> 1211.95: **pass**"
   ]
  },
  {
   "cell_type": "markdown",
   "id": "dee2b878",
   "metadata": {},
   "source": [
    "Now that we've validated our extract_features function, we can apply it to the rest of our dataframe.\n",
    "\n",
    "**Notes**: \n",
    "- This cell can take a while to run! About 5 minutes\n",
    "- suppressed UserWarning: Trying to estimate tuning from empty frequency set. "
   ]
  },
  {
   "cell_type": "code",
   "execution_count": 12,
   "id": "603617a5",
   "metadata": {},
   "outputs": [
    {
     "name": "stderr",
     "output_type": "stream",
     "text": [
      "H:\\Anaconda\\envs\\learn-env\\lib\\site-packages\\librosa\\core\\pitch.py:101: UserWarning: Trying to estimate tuning from empty frequency set.\n",
      "  return pitch_tuning(\n"
     ]
    },
    {
     "name": "stdout",
     "output_type": "stream",
     "text": [
      "id                    0\n",
      "filename              0\n",
      "emotion               0\n",
      "path                  0\n",
      "mfccs                 0\n",
      "spectral_centroid     0\n",
      "chroma                0\n",
      "zero_crossing_rate    0\n",
      "rms                   0\n",
      "pitch                 1\n",
      "dtype: int64\n"
     ]
    }
   ],
   "source": [
    "# Empty lists to store features\n",
    "mfccs_mean_list = []\n",
    "spectral_centroid_list = []\n",
    "chroma_list = []\n",
    "zero_crossing_rate_list = []\n",
    "rms_list = []\n",
    "pitch_list = []\n",
    "\n",
    "# Iterate over each row in the DataFrame\n",
    "for index, row in merged_data.iterrows():\n",
    "    file_path = os.path.join(row['path'], row['filename'])  # Construct the file path\n",
    "    \n",
    "    # Extract features directly from the file path\n",
    "    features = extract_features(file_path)\n",
    "    \n",
    "    # Append the features to their respective lists\n",
    "    mfccs_mean_list.append(features[0])\n",
    "    spectral_centroid_list.append(features[1])\n",
    "    chroma_list.append(features[2])\n",
    "    zero_crossing_rate_list.append(features[3])\n",
    "    rms_list.append(features[4])\n",
    "    pitch_list.append(features[5])\n",
    "\n",
    "# Add the features to the DataFrame\n",
    "merged_data['mfccs'] = mfccs_mean_list\n",
    "merged_data['spectral_centroid'] = spectral_centroid_list\n",
    "merged_data['chroma'] = chroma_list\n",
    "merged_data['zero_crossing_rate'] = zero_crossing_rate_list\n",
    "merged_data['rms'] = rms_list\n",
    "merged_data['pitch'] = pitch_list\n",
    "\n",
    "# Check for any NaN values in the DataFrame\n",
    "print(merged_data.isnull().sum())\n"
   ]
  },
  {
   "cell_type": "code",
   "execution_count": 13,
   "id": "5bf6504e",
   "metadata": {},
   "outputs": [
    {
     "data": {
      "text/html": [
       "<div>\n",
       "<style scoped>\n",
       "    .dataframe tbody tr th:only-of-type {\n",
       "        vertical-align: middle;\n",
       "    }\n",
       "\n",
       "    .dataframe tbody tr th {\n",
       "        vertical-align: top;\n",
       "    }\n",
       "\n",
       "    .dataframe thead th {\n",
       "        text-align: right;\n",
       "    }\n",
       "</style>\n",
       "<table border=\"1\" class=\"dataframe\">\n",
       "  <thead>\n",
       "    <tr style=\"text-align: right;\">\n",
       "      <th></th>\n",
       "      <th>id</th>\n",
       "      <th>filename</th>\n",
       "      <th>emotion</th>\n",
       "      <th>path</th>\n",
       "      <th>mfccs</th>\n",
       "      <th>spectral_centroid</th>\n",
       "      <th>chroma</th>\n",
       "      <th>zero_crossing_rate</th>\n",
       "      <th>rms</th>\n",
       "      <th>pitch</th>\n",
       "    </tr>\n",
       "  </thead>\n",
       "  <tbody>\n",
       "    <tr>\n",
       "      <th>0</th>\n",
       "      <td>c_0001</td>\n",
       "      <td>1001_DFA_ANG_XX.wav</td>\n",
       "      <td>angry</td>\n",
       "      <td>dataset\\Crema</td>\n",
       "      <td>[-306.0274, 92.670235, 8.491312, 23.965403, 7....</td>\n",
       "      <td>[1584.9930703294388]</td>\n",
       "      <td>[0.37491405, 0.37949282, 0.41722107, 0.3901823...</td>\n",
       "      <td>[0.10186767578125]</td>\n",
       "      <td>[0.041986194]</td>\n",
       "      <td>1211.950684</td>\n",
       "    </tr>\n",
       "    <tr>\n",
       "      <th>1</th>\n",
       "      <td>c_0002</td>\n",
       "      <td>1001_DFA_DIS_XX.wav</td>\n",
       "      <td>disgust</td>\n",
       "      <td>dataset\\Crema</td>\n",
       "      <td>[-346.39963, 95.83912, 10.516282, 31.619215, 1...</td>\n",
       "      <td>[1531.650486749737]</td>\n",
       "      <td>[0.47289878, 0.4768195, 0.33598945, 0.34610763...</td>\n",
       "      <td>[0.09306105522260275]</td>\n",
       "      <td>[0.015996357]</td>\n",
       "      <td>1256.617188</td>\n",
       "    </tr>\n",
       "    <tr>\n",
       "      <th>2</th>\n",
       "      <td>c_0003</td>\n",
       "      <td>1001_DFA_FEA_XX.wav</td>\n",
       "      <td>fear</td>\n",
       "      <td>dataset\\Crema</td>\n",
       "      <td>[-321.42026, 94.76091, 8.155397, 23.323242, 11...</td>\n",
       "      <td>[1489.0888388536061]</td>\n",
       "      <td>[0.3272673, 0.39935032, 0.35215598, 0.38248017...</td>\n",
       "      <td>[0.08428596047794118]</td>\n",
       "      <td>[0.045776337]</td>\n",
       "      <td>992.574402</td>\n",
       "    </tr>\n",
       "    <tr>\n",
       "      <th>3</th>\n",
       "      <td>c_0004</td>\n",
       "      <td>1001_DFA_HAP_XX.wav</td>\n",
       "      <td>happy</td>\n",
       "      <td>dataset\\Crema</td>\n",
       "      <td>[-303.30374, 92.52889, 4.231231, 27.970133, 10...</td>\n",
       "      <td>[1555.37603547111]</td>\n",
       "      <td>[0.3150873, 0.31478375, 0.30918238, 0.3423785,...</td>\n",
       "      <td>[0.0848781779661017]</td>\n",
       "      <td>[0.042300183]</td>\n",
       "      <td>1102.953003</td>\n",
       "    </tr>\n",
       "    <tr>\n",
       "      <th>4</th>\n",
       "      <td>c_0005</td>\n",
       "      <td>1001_DFA_NEU_XX.wav</td>\n",
       "      <td>neutral</td>\n",
       "      <td>dataset\\Crema</td>\n",
       "      <td>[-335.4959, 100.39331, 9.384935, 30.160904, 11...</td>\n",
       "      <td>[1495.3949968411737]</td>\n",
       "      <td>[0.4112704, 0.36269408, 0.3349767, 0.32547352,...</td>\n",
       "      <td>[0.08203125]</td>\n",
       "      <td>[0.020449637]</td>\n",
       "      <td>1041.093628</td>\n",
       "    </tr>\n",
       "  </tbody>\n",
       "</table>\n",
       "</div>"
      ],
      "text/plain": [
       "       id             filename  emotion           path  \\\n",
       "0  c_0001  1001_DFA_ANG_XX.wav    angry  dataset\\Crema   \n",
       "1  c_0002  1001_DFA_DIS_XX.wav  disgust  dataset\\Crema   \n",
       "2  c_0003  1001_DFA_FEA_XX.wav     fear  dataset\\Crema   \n",
       "3  c_0004  1001_DFA_HAP_XX.wav    happy  dataset\\Crema   \n",
       "4  c_0005  1001_DFA_NEU_XX.wav  neutral  dataset\\Crema   \n",
       "\n",
       "                                               mfccs     spectral_centroid  \\\n",
       "0  [-306.0274, 92.670235, 8.491312, 23.965403, 7....  [1584.9930703294388]   \n",
       "1  [-346.39963, 95.83912, 10.516282, 31.619215, 1...   [1531.650486749737]   \n",
       "2  [-321.42026, 94.76091, 8.155397, 23.323242, 11...  [1489.0888388536061]   \n",
       "3  [-303.30374, 92.52889, 4.231231, 27.970133, 10...    [1555.37603547111]   \n",
       "4  [-335.4959, 100.39331, 9.384935, 30.160904, 11...  [1495.3949968411737]   \n",
       "\n",
       "                                              chroma     zero_crossing_rate  \\\n",
       "0  [0.37491405, 0.37949282, 0.41722107, 0.3901823...     [0.10186767578125]   \n",
       "1  [0.47289878, 0.4768195, 0.33598945, 0.34610763...  [0.09306105522260275]   \n",
       "2  [0.3272673, 0.39935032, 0.35215598, 0.38248017...  [0.08428596047794118]   \n",
       "3  [0.3150873, 0.31478375, 0.30918238, 0.3423785,...   [0.0848781779661017]   \n",
       "4  [0.4112704, 0.36269408, 0.3349767, 0.32547352,...           [0.08203125]   \n",
       "\n",
       "             rms        pitch  \n",
       "0  [0.041986194]  1211.950684  \n",
       "1  [0.015996357]  1256.617188  \n",
       "2  [0.045776337]   992.574402  \n",
       "3  [0.042300183]  1102.953003  \n",
       "4  [0.020449637]  1041.093628  "
      ]
     },
     "execution_count": 13,
     "metadata": {},
     "output_type": "execute_result"
    }
   ],
   "source": [
    "merged_data['pitch'] = merged_data['pitch'].fillna(0)\n",
    "merged_data.head()"
   ]
  },
  {
   "cell_type": "markdown",
   "id": "53b7c712",
   "metadata": {},
   "source": [
    "We won't be able to work with arrays - we will need to extract a meaningful metric and save them in a new column."
   ]
  },
  {
   "cell_type": "markdown",
   "id": "66860056",
   "metadata": {},
   "source": [
    "### Cleaning the Data"
   ]
  },
  {
   "cell_type": "code",
   "execution_count": 14,
   "id": "1e845995",
   "metadata": {},
   "outputs": [
    {
     "name": "stdout",
     "output_type": "stream",
     "text": [
      "   mfccs_mean  spectral_centroid    chroma  zero_crossing_rate       rms  \\\n",
      "0  -17.963037        1584.993070  0.411293            0.101868  0.041986   \n",
      "1  -18.657297        1531.650487  0.423961            0.093061  0.015996   \n",
      "2  -18.552622        1489.088839  0.413398            0.084286  0.045776   \n",
      "3  -18.460817        1555.376035  0.394820            0.084878  0.042300   \n",
      "4  -18.111607        1495.394997  0.401279            0.082031  0.020450   \n",
      "\n",
      "         pitch           path             filename  emotion  \n",
      "0  1211.950684  dataset\\Crema  1001_DFA_ANG_XX.wav    angry  \n",
      "1  1256.617188  dataset\\Crema  1001_DFA_DIS_XX.wav  disgust  \n",
      "2   992.574402  dataset\\Crema  1001_DFA_FEA_XX.wav     fear  \n",
      "3  1102.953003  dataset\\Crema  1001_DFA_HAP_XX.wav    happy  \n",
      "4  1041.093628  dataset\\Crema  1001_DFA_NEU_XX.wav  neutral  \n"
     ]
    }
   ],
   "source": [
    "# Create a new DataFrame for the cleaned features\n",
    "clean_data = pd.DataFrame()\n",
    "\n",
    "# Store the mean of array values and existing values for non-array columns\n",
    "clean_data['mfccs_mean'] = merged_data['mfccs'].apply(lambda x: np.mean(x) if isinstance(x, (list, np.ndarray)) and len(x) > 0 else np.nan)\n",
    "clean_data['spectral_centroid'] = merged_data['spectral_centroid'].apply(lambda x: np.mean(x) if isinstance(x, (list, np.ndarray)) and len(x) > 0 else np.nan)\n",
    "clean_data['chroma'] = merged_data['chroma'].apply(lambda x: np.mean(x) if isinstance(x, (list, np.ndarray)) and len(x) > 0 else np.nan)\n",
    "clean_data['zero_crossing_rate'] = merged_data['zero_crossing_rate'].apply(lambda x: x[0] if isinstance(x, (list, np.ndarray)) and len(x) > 0 else np.nan)\n",
    "clean_data['rms'] = merged_data['rms'].apply(lambda x: x[0] if isinstance(x, (list, np.ndarray)) and len(x) > 0 else np.nan)\n",
    "clean_data['pitch'] = merged_data['pitch']  # Directly store the existing value\n",
    "clean_data['path'] = merged_data['path']\n",
    "clean_data['filename'] = merged_data['filename']\n",
    "\n",
    "# Add the emotion column\n",
    "clean_data['emotion'] = merged_data['emotion']\n",
    "\n",
    "# Display the new DataFrame\n",
    "print(clean_data.head())"
   ]
  },
  {
   "cell_type": "code",
   "execution_count": 15,
   "id": "77238a17",
   "metadata": {},
   "outputs": [
    {
     "name": "stdout",
     "output_type": "stream",
     "text": [
      "mfccs_mean            0\n",
      "spectral_centroid     0\n",
      "chroma                0\n",
      "zero_crossing_rate    0\n",
      "rms                   0\n",
      "pitch                 0\n",
      "path                  0\n",
      "filename              0\n",
      "emotion               0\n",
      "dtype: int64\n"
     ]
    }
   ],
   "source": [
    "# Check for any NaN values in the DataFrame\n",
    "print(clean_data.isnull().sum())"
   ]
  },
  {
   "cell_type": "code",
   "execution_count": 16,
   "id": "7f273bb9",
   "metadata": {},
   "outputs": [
    {
     "data": {
      "image/png": "[encoded data removed]",
      "text/plain": [
       "<Figure size 720x432 with 1 Axes>"
      ]
     },
     "metadata": {
      "needs_background": "light"
     },
     "output_type": "display_data"
    }
   ],
   "source": [
    "# distribution of emotions\n",
    "plt.figure(figsize=(10, 6))\n",
    "sns.countplot(data=clean_data, x='emotion', order=clean_data['emotion'].value_counts().index)\n",
    "plt.title('Distribution of Emotions')\n",
    "plt.xticks(rotation=45)\n",
    "plt.show()\n",
    "\n",
    "# this chart shows some a significant imbalance in the dataset. lets do some resampling\n",
    "# Lets try using the SMOTE technique (Synthetic Minority Over-sampling):"
   ]
  },
  {
   "cell_type": "code",
   "execution_count": 18,
   "id": "c859e453",
   "metadata": {},
   "outputs": [
    {
     "name": "stdout",
     "output_type": "stream",
     "text": [
      "['angry' 'disgust' 'fear' 'happy' 'neutral' 'sad' 'pleasant' 'unknown'\n",
      " 'surprise' 'calm']\n"
     ]
    }
   ],
   "source": [
    "# Lets combine columns that should be the same, such as 'Sad', 'sad', and 'sadness':\n",
    "\n",
    "clean_data['emotion'] = clean_data['emotion'].str.lower()  # Convert to lowercase\n",
    "\n",
    "# Replace specific values\n",
    "clean_data['emotion'] = clean_data['emotion'].replace({\n",
    "    'surprised': 'surprise',  # Change 'surprised' to 'surprise'\n",
    "    'sadness': 'sad',          # Combine 'sadness', 'sad', 'Sad' to 'sad'\n",
    "    'sad': 'sad',\n",
    "    'sadness': 'sad',\n",
    "    'pleasant': 'pleasant',\n",
    "    'fear': 'fear',\n",
    "    'fearful': 'fear',\n",
    "})\n",
    "\n",
    "# Check unique values after standardization\n",
    "unique_emotions = clean_data['emotion'].unique()\n",
    "print(unique_emotions)"
   ]
  },
  {
   "cell_type": "code",
   "execution_count": 19,
   "id": "6b21af37",
   "metadata": {},
   "outputs": [
    {
     "data": {
      "image/png": "[encoded data removed]",
      "text/plain": [
       "<Figure size 720x432 with 1 Axes>"
      ]
     },
     "metadata": {
      "needs_background": "light"
     },
     "output_type": "display_data"
    }
   ],
   "source": [
    "plt.figure(figsize=(10, 6))\n",
    "sns.countplot(data=clean_data, x='emotion', order=clean_data['emotion'].value_counts().index)\n",
    "plt.title('Distribution of Emotions')\n",
    "plt.xticks(rotation=45)\n",
    "plt.show()\n",
    "\n",
    "# this chart shows some a significant imbalance in the dataset.\n",
    "# lets reduce the higher classes like sad, angry, dusgust and so on to 1500, \n",
    "# then use augmented audio for underrepresented classes, bringing them also to 1500. "
   ]
  },
  {
   "cell_type": "code",
   "execution_count": null,
   "id": "2b5b4d91",
   "metadata": {},
   "outputs": [],
   "source": []
  },
  {
   "cell_type": "markdown",
   "id": "b41a2d8a",
   "metadata": {},
   "source": [
    "## Harmonizing sample sizes for target"
   ]
  },
  {
   "cell_type": "markdown",
   "id": "09fd5c68",
   "metadata": {},
   "source": [
    "### Building a Model"
   ]
  },
  {
   "cell_type": "code",
   "execution_count": 66,
   "id": "42c784f3",
   "metadata": {},
   "outputs": [
    {
     "name": "stdout",
     "output_type": "stream",
     "text": [
      "Original dataset shape: Counter({'sad': 1544, 'fear': 1502, 'angry': 1498, 'happy': 1495, 'disgust': 1457, 'neutral': 1254, 'pleasant': 331, 'unknown': 281, 'surprise': 214, 'calm': 153})\n",
      "mfccs_mean            float64\n",
      "spectral_centroid     float64\n",
      "chroma                float64\n",
      "zero_crossing_rate    float64\n",
      "rms                   float64\n",
      "pitch                 float64\n",
      "dtype: object\n"
     ]
    }
   ],
   "source": [
    "eval_clean_data = clean_data.copy()\n",
    "\n",
    "# Prepare the data\n",
    "X = eval_clean_data.drop(columns=['emotion', 'filename', 'path'])\n",
    "y = eval_clean_data['emotion']\n",
    "\n",
    "# Split the data into training and testing sets\n",
    "X_train, X_test, y_train, y_test = train_test_split(X, y, test_size=0.2, random_state=42)\n",
    "\n",
    "# Verify the original distribution of the training data\n",
    "print(\"Original dataset shape:\", Counter(y_train))\n",
    "\n",
    "# Convert columns with object type to their means\n",
    "for col in ['mfccs_mean', 'spectral_centroid', 'chroma', 'zero_crossing_rate', 'rms']:\n",
    "    X_train[col] = X_train[col].apply(lambda x: np.mean(x) if isinstance(x, (list, np.ndarray)) else x)\n",
    "    X_test[col] = X_test[col].apply(lambda x: np.mean(x) if isinstance(x, (list, np.ndarray)) else x)\n",
    "\n",
    "# Check if the columns were converted correctly\n",
    "print(X_train.dtypes)\n",
    "# Should all be floats!"
   ]
  },
  {
   "cell_type": "code",
   "execution_count": 67,
   "id": "3cfee1f9",
   "metadata": {},
   "outputs": [
    {
     "name": "stdout",
     "output_type": "stream",
     "text": [
      "X_train shape: (9729, 6)\n",
      "y_train shape: (9729,)\n",
      "X_test shape: (2433, 6)\n",
      "y_test shape: (2433,)\n",
      "mfccs_mean            0\n",
      "spectral_centroid     0\n",
      "chroma                0\n",
      "zero_crossing_rate    0\n",
      "rms                   0\n",
      "pitch                 0\n",
      "path                  0\n",
      "filename              0\n",
      "emotion               0\n",
      "dtype: int64\n",
      "\n",
      "mfccs_mean            0\n",
      "spectral_centroid     0\n",
      "chroma                0\n",
      "zero_crossing_rate    0\n",
      "rms                   0\n",
      "pitch                 0\n",
      "path                  0\n",
      "filename              0\n",
      "emotion               0\n",
      "dtype: int64\n"
     ]
    }
   ],
   "source": [
    "# handle null values\n",
    "print(\"X_train shape:\", X_train.shape)\n",
    "print(\"y_train shape:\", y_train.shape)\n",
    "print(\"X_test shape:\", X_test.shape)\n",
    "print(\"y_test shape:\", y_test.shape)\n",
    "\n",
    "# Convert object columns to float\n",
    "for col in ['mfccs_mean', 'spectral_centroid', 'chroma', 'zero_crossing_rate', 'rms']:\n",
    "    eval_clean_data[col] = pd.to_numeric(eval_clean_data[col], errors='coerce')\n",
    "\n",
    "# Check for any NaN values after conversion\n",
    "print(eval_clean_data.isnull().sum())\n",
    "\n",
    "eval_clean_data = eval_clean_data.dropna()\n",
    "\n",
    "print()\n",
    "\n",
    "# Verify that there are no more NaN values\n",
    "print(eval_clean_data.isnull().sum())\n"
   ]
  },
  {
   "cell_type": "code",
   "execution_count": 68,
   "id": "94606609",
   "metadata": {},
   "outputs": [
    {
     "name": "stdout",
     "output_type": "stream",
     "text": [
      "Fitting 5 folds for each of 135 candidates, totalling 675 fits\n",
      "Best parameters found:  {'max_depth': 10, 'max_features': None, 'min_samples_leaf': 4, 'min_samples_split': 10}\n",
      "Best cross-validation score:  0.4478363633001054\n",
      "\n",
      "Decision Tree Accuracy (Best): 0.4619810933004521\n",
      "Confusion Matrix (Best):\n",
      " [[242   0  20  28  50  12   2   8   3   0]\n",
      " [  0  21   6   1   1   3   0   6   1   0]\n",
      " [ 49   1 142  13  53  79   7  57   5   0]\n",
      " [ 71   0  38  74  47  56   3  69   3   0]\n",
      " [ 99   2  28  31 139  45   2  11  11   0]\n",
      " [ 13   8  28  12  20 169   2  76   1   0]\n",
      " [  4   0  10   4   3   2  46   0   0   0]\n",
      " [  3   5  37  23  18  70   1 215   2   5]\n",
      " [  3   2   7   1   8   0   0   2  10   5]\n",
      " [  0   0   0   0   0   0   0   9   4  66]]\n",
      "Classification Report (Best):\n",
      "               precision    recall  f1-score   support\n",
      "\n",
      "       angry       0.50      0.66      0.57       365\n",
      "        calm       0.54      0.54      0.54        39\n",
      "     disgust       0.45      0.35      0.39       406\n",
      "        fear       0.40      0.20      0.27       361\n",
      "       happy       0.41      0.38      0.39       368\n",
      "     neutral       0.39      0.51      0.44       329\n",
      "    pleasant       0.73      0.67      0.70        69\n",
      "         sad       0.47      0.57      0.52       379\n",
      "    surprise       0.25      0.26      0.26        38\n",
      "     unknown       0.87      0.84      0.85        79\n",
      "\n",
      "    accuracy                           0.46      2433\n",
      "   macro avg       0.50      0.50      0.49      2433\n",
      "weighted avg       0.46      0.46      0.45      2433\n",
      "\n"
     ]
    }
   ],
   "source": [
    "# Define the parameter grid and run grid search\n",
    "param_grid = {\n",
    "    'max_depth': [None, 5, 10, 15, 20],\n",
    "    'min_samples_split': [2, 5, 10],\n",
    "    'min_samples_leaf': [1, 2, 4],\n",
    "    'max_features': ['sqrt', 'log2', None] \n",
    "}\n",
    "\n",
    "# Set up GridSearchCV\n",
    "grid_search = GridSearchCV(estimator=DecisionTreeClassifier(random_state=42),\n",
    "                           param_grid=param_grid,\n",
    "                           cv=5,\n",
    "                           n_jobs=-1,\n",
    "                           scoring='accuracy',\n",
    "                           verbose=1)\n",
    "\n",
    "# Fit the model\n",
    "grid_search.fit(X_train, y_train)\n",
    "\n",
    "# Review the best parameters and score\n",
    "print(\"Best parameters found: \", grid_search.best_params_)\n",
    "print(\"Best cross-validation score: \", grid_search.best_score_)\n",
    "\n",
    "print() # new line for seperation\n",
    "\n",
    "# evaluate the best model\n",
    "best_model = grid_search.best_estimator_\n",
    "y_pred_best_tree = best_model.predict(X_test)\n",
    "\n",
    "print(\"Decision Tree Accuracy (Best):\", accuracy_score(y_test, y_pred_best_tree))\n",
    "print(\"Confusion Matrix (Best):\\n\", confusion_matrix(y_test, y_pred_best_tree))\n",
    "print(\"Classification Report (Best):\\n\", classification_report(y_test, y_pred_best_tree))\n"
   ]
  },
  {
   "cell_type": "markdown",
   "id": "10b3937e",
   "metadata": {},
   "source": [
    "#### Evaluation:\n",
    "Accuracy of 46% is not great. \n",
    "\n",
    "Additionally, our f1-scores don't look super hot either. Let's address this!"
   ]
  },
  {
   "cell_type": "markdown",
   "id": "0edfee8d",
   "metadata": {},
   "source": [
    "## Audio Augmentation for Underrepresented Classes\n",
    "\n",
    "Let's attempt to make the model better by evening the distribution. To do this, we will lower the more represented classes to 1500 each, and create synthetic data for the underrepresented classes. "
   ]
  },
  {
   "cell_type": "code",
   "execution_count": 69,
   "id": "92ac3187",
   "metadata": {},
   "outputs": [
    {
     "name": "stdout",
     "output_type": "stream",
     "text": [
      "emotion\n",
      "sad         1500\n",
      "angry       1500\n",
      "disgust     1500\n",
      "fear        1500\n",
      "happy       1500\n",
      "neutral     1500\n",
      "pleasant     400\n",
      "surprise     252\n",
      "calm         192\n",
      "Name: count, dtype: int64\n"
     ]
    }
   ],
   "source": [
    "reduced_data = clean_data.copy()\n",
    "\n",
    "# drop rows with 'unknown' emotion\n",
    "reduced_data = reduced_data[reduced_data['emotion'] != 'unknown']\n",
    "# Define the target count for high emotion classes\n",
    "target_count_high = 1500\n",
    "\n",
    "# Loop through each emotion class and reduce to target count if above it\n",
    "for emotion in reduced_data['emotion'].value_counts().index:\n",
    "    current_count = reduced_data[reduced_data['emotion'] == emotion].shape[0]\n",
    "    \n",
    "    if current_count > target_count_high:\n",
    "        # Randomly sample to reduce to the target count\n",
    "        emotion_samples = reduced_data[reduced_data['emotion'] == emotion]\n",
    "        reduced_samples = emotion_samples.sample(n=target_count_high, random_state=42)\n",
    "        reduced_data = reduced_data[reduced_data['emotion'] != emotion]  # Remove excess samples\n",
    "        reduced_data = pd.concat([reduced_data, reduced_samples], ignore_index=True)\n",
    "\n",
    "# Check the new distribution of the reduced data\n",
    "print(reduced_data['emotion'].value_counts())"
   ]
  },
  {
   "cell_type": "code",
   "execution_count": 70,
   "id": "cf2997b0",
   "metadata": {},
   "outputs": [],
   "source": [
    "# audio augmentation to help with uneven data\n",
    "def augment_audio(data, sr):\n",
    "    # Add noise\n",
    "    noise = np.random.randn(len(data))\n",
    "    data_with_noise = data + 0.005 * noise\n",
    "    \n",
    "    # Time Stretching (without altering the pitch)\n",
    "    stretched_data = librosa.effects.time_stretch(data, rate=1.1)  # Slightly faster\n",
    "    \n",
    "    # Shifting (without altering the pitch)\n",
    "    shift = np.random.randint(sr)\n",
    "    shifted_data = np.roll(data, shift)\n",
    "    \n",
    "    # Volume adjustment\n",
    "    amplitude_scale = np.random.uniform(low=0.8, high=1.2)\n",
    "    adjusted_volume_data = data * amplitude_scale\n",
    "\n",
    "    # Randomly choose one of the augmentation methods to apply\n",
    "    augmentation_methods = [data_with_noise, stretched_data, shifted_data, adjusted_volume_data]\n",
    "    \n",
    "    augmented_data = random.choice(augmentation_methods)\n",
    "    \n",
    "    return augmented_data"
   ]
  },
  {
   "cell_type": "code",
   "execution_count": 71,
   "id": "008687a5",
   "metadata": {},
   "outputs": [
    {
     "name": "stdout",
     "output_type": "stream",
     "text": [
      "emotion\n",
      "pleasant    1500\n",
      "surprise    1500\n",
      "calm        1500\n",
      "sad         1500\n",
      "angry       1500\n",
      "disgust     1500\n",
      "fear        1500\n",
      "happy       1500\n",
      "neutral     1500\n",
      "Name: count, dtype: int64\n"
     ]
    }
   ],
   "source": [
    "# Create a new DataFrame for augmented data\n",
    "augmented_data = reduced_data.copy()\n",
    "\n",
    "# Lists to store augmented features\n",
    "augmented_mfccs_mean_list = []\n",
    "augmented_spectral_centroid_list = []\n",
    "augmented_chroma_list = []\n",
    "augmented_zero_crossing_rate_list = []\n",
    "augmented_rms_list = []\n",
    "augmented_pitch_list = []\n",
    "augmented_emotions = []\n",
    "\n",
    "# Define target count for underrepresented classes\n",
    "target_count = 1500\n",
    "underrepresented_emotions = ['pleasant', 'surprise', 'calm']\n",
    "\n",
    "# Process and augment underrepresented emotions\n",
    "for emotion in underrepresented_emotions:\n",
    "    current_count = augmented_data[augmented_data['emotion'] == emotion].shape[0]\n",
    "    num_augments_needed = target_count - current_count\n",
    "\n",
    "    if num_augments_needed > 0:\n",
    "        # Find all samples of this emotion in the dataset\n",
    "        emotion_samples = augmented_data[augmented_data['emotion'] == emotion]\n",
    "        \n",
    "        # Augment samples until we reach the target count\n",
    "        for _ in range(num_augments_needed):\n",
    "            # Randomly select a sample to augment\n",
    "            random_sample = emotion_samples.sample(n=1).iloc[0]\n",
    "            audio_file = os.path.join(random_sample['path'], random_sample['filename'])\n",
    "            \n",
    "            try:\n",
    "                # Load the audio file\n",
    "                data, sr = librosa.load(audio_file, sr=None)\n",
    "\n",
    "                # Perform augmentation\n",
    "                augmented_data_sample = augment_audio(data, sr)\n",
    "\n",
    "                # Extract features from the augmented audio\n",
    "                augmented_features = extract_features(augmented_data_sample, sr=sr, from_file=False)\n",
    "\n",
    "                # Append augmented features to lists\n",
    "                augmented_mfccs_mean_list.append(augmented_features[0])\n",
    "                augmented_spectral_centroid_list.append(augmented_features[1])\n",
    "                augmented_chroma_list.append(augmented_features[2])\n",
    "                augmented_zero_crossing_rate_list.append(augmented_features[3])\n",
    "                augmented_rms_list.append(augmented_features[4])\n",
    "                augmented_pitch_list.append(augmented_features[5])\n",
    "                augmented_emotions.append(emotion)\n",
    "\n",
    "            except Exception as e:\n",
    "                print(f\"Error processing {audio_file}: {str(e)}\")\n",
    "\n",
    "# After augmentation, create a DataFrame to store augmented features\n",
    "augmented_df = pd.DataFrame({\n",
    "    'mfccs_mean': augmented_mfccs_mean_list,\n",
    "    'spectral_centroid': augmented_spectral_centroid_list,\n",
    "    'chroma': augmented_chroma_list,\n",
    "    'zero_crossing_rate': augmented_zero_crossing_rate_list,\n",
    "    'rms': augmented_rms_list,\n",
    "    'pitch': augmented_pitch_list,\n",
    "    'emotion': augmented_emotions\n",
    "})\n",
    "\n",
    "# Combine reduced data with augmented data\n",
    "eval_aug_data = pd.concat([reduced_data, augmented_df], ignore_index=True)\n",
    "\n",
    "# Check the final distribution\n",
    "print(eval_aug_data['emotion'].value_counts())\n"
   ]
  },
  {
   "cell_type": "markdown",
   "id": "d31df079",
   "metadata": {},
   "source": [
    "### New Model for the New Data\n",
    "\n",
    "Now, lets do build another model and evaulate it's accuracy, given our now-evenly-distributed data. "
   ]
  },
  {
   "cell_type": "code",
   "execution_count": 72,
   "id": "7e964528",
   "metadata": {},
   "outputs": [
    {
     "name": "stdout",
     "output_type": "stream",
     "text": [
      "mfccs_mean            float64\n",
      "spectral_centroid     float64\n",
      "chroma                float64\n",
      "zero_crossing_rate    float64\n",
      "rms                   float64\n",
      "pitch                 float64\n",
      "dtype: object\n"
     ]
    }
   ],
   "source": [
    "# Drop non-numeric columns like 'id', 'filename', 'path' before fitting the model\n",
    "X = eval_aug_data.drop(columns=['emotion', 'filename', 'path'])  # drop any non-numeric columns\n",
    "y = eval_aug_data['emotion']\n",
    "\n",
    "# Split the data into training and testing sets\n",
    "X_train, X_test, y_train, y_test = train_test_split(X, y, test_size=0.2, random_state=42)\n",
    "\n",
    "# Convert columns with object type to their means (if they're lists or arrays)\n",
    "for col in ['mfccs_mean', 'spectral_centroid', 'chroma', 'zero_crossing_rate', 'rms']:\n",
    "    X_train[col] = X_train[col].apply(lambda x: np.mean(x) if isinstance(x, (list, np.ndarray)) else x)\n",
    "    X_test[col] = X_test[col].apply(lambda x: np.mean(x) if isinstance(x, (list, np.ndarray)) else x)\n",
    "\n",
    "\n",
    "# Check if the columns were converted correctly\n",
    "print(X_train.dtypes)\n"
   ]
  },
  {
   "cell_type": "code",
   "execution_count": 73,
   "id": "2ce669c0",
   "metadata": {},
   "outputs": [
    {
     "name": "stdout",
     "output_type": "stream",
     "text": [
      "X_train shape: (10800, 6)\n",
      "y_train shape: (10800,)\n",
      "X_test shape: (2700, 6)\n",
      "y_test shape: (2700,)\n",
      "mfccs_mean            3656\n",
      "spectral_centroid     3656\n",
      "chroma                3656\n",
      "zero_crossing_rate    3656\n",
      "rms                   3656\n",
      "pitch                    0\n",
      "path                  3656\n",
      "filename              3656\n",
      "emotion                  0\n",
      "dtype: int64\n",
      "\n",
      "mfccs_mean            0\n",
      "spectral_centroid     0\n",
      "chroma                0\n",
      "zero_crossing_rate    0\n",
      "rms                   0\n",
      "pitch                 0\n",
      "path                  0\n",
      "filename              0\n",
      "emotion               0\n",
      "dtype: int64\n"
     ]
    }
   ],
   "source": [
    "# handle null values\n",
    "print(\"X_train shape:\", X_train.shape)\n",
    "print(\"y_train shape:\", y_train.shape)\n",
    "print(\"X_test shape:\", X_test.shape)\n",
    "print(\"y_test shape:\", y_test.shape)\n",
    "\n",
    "# Convert object columns to float\n",
    "for col in ['mfccs_mean', 'spectral_centroid', 'chroma', 'zero_crossing_rate', 'rms']:\n",
    "    eval_aug_data[col] = pd.to_numeric(eval_aug_data[col], errors='coerce')\n",
    "\n",
    "# Check for any NaN values after conversion\n",
    "print(eval_aug_data.isnull().sum())\n",
    "\n",
    "eval_aug_data = eval_aug_data.dropna()\n",
    "\n",
    "print()\n",
    "\n",
    "# Verify that there are no more NaN values\n",
    "print(eval_aug_data.isnull().sum())\n"
   ]
  },
  {
   "cell_type": "code",
   "execution_count": 74,
   "id": "d2b22b8a",
   "metadata": {},
   "outputs": [
    {
     "name": "stdout",
     "output_type": "stream",
     "text": [
      "Fitting 5 folds for each of 135 candidates, totalling 675 fits\n",
      "Best parameters found:  {'max_depth': 10, 'max_features': None, 'min_samples_leaf': 1, 'min_samples_split': 2}\n",
      "Best cross-validation score:  0.564537037037037\n",
      "\n",
      "Decision Tree Accuracy (Best): 0.575925925925926\n",
      "Confusion Matrix (Best):\n",
      " [[192   4  13  18  54  12   6   2   9]\n",
      " [  0 289   0   3   0   1   0   0  18]\n",
      " [ 16  13  89   9  27  60  23  28  20]\n",
      " [ 39   4  36  51  38  50   6  57  18]\n",
      " [ 54   2  15   7  90  65  21  11  19]\n",
      " [  7  15  45   5  16 185   3  49   6]\n",
      " [  3   0  24   1   3   1 264   3   0]\n",
      " [  7  14  37  14  11  63   3 140   8]\n",
      " [  1  21   1   0   2   3   1   0 255]]\n",
      "Classification Report (Best):\n",
      "               precision    recall  f1-score   support\n",
      "\n",
      "       angry       0.60      0.62      0.61       310\n",
      "        calm       0.80      0.93      0.86       311\n",
      "     disgust       0.34      0.31      0.33       285\n",
      "        fear       0.47      0.17      0.25       299\n",
      "       happy       0.37      0.32      0.34       284\n",
      "     neutral       0.42      0.56      0.48       331\n",
      "    pleasant       0.81      0.88      0.84       299\n",
      "         sad       0.48      0.47      0.48       297\n",
      "    surprise       0.72      0.90      0.80       284\n",
      "\n",
      "    accuracy                           0.58      2700\n",
      "   macro avg       0.56      0.57      0.55      2700\n",
      "weighted avg       0.56      0.58      0.56      2700\n",
      "\n"
     ]
    }
   ],
   "source": [
    "# Define the parameter grid and run grid search\n",
    "param_grid = {\n",
    "    'max_depth': [None, 5, 10, 15, 20],\n",
    "    'min_samples_split': [2, 5, 10],\n",
    "    'min_samples_leaf': [1, 2, 4],\n",
    "    'max_features': ['sqrt', 'log2', None] \n",
    "}\n",
    "\n",
    "# Set up GridSearchCV\n",
    "grid_search = GridSearchCV(estimator=DecisionTreeClassifier(random_state=42),\n",
    "                           param_grid=param_grid,\n",
    "                           cv=5,\n",
    "                           n_jobs=-1,\n",
    "                           scoring='accuracy',\n",
    "                           verbose=1)\n",
    "\n",
    "# Fit the model\n",
    "grid_search.fit(X_train, y_train)\n",
    "\n",
    "# Review the best parameters and score\n",
    "print(\"Best parameters found: \", grid_search.best_params_)\n",
    "print(\"Best cross-validation score: \", grid_search.best_score_)\n",
    "\n",
    "print() # new line for seperation\n",
    "\n",
    "# evaluate the best model\n",
    "best_model = grid_search.best_estimator_\n",
    "y_pred_best_tree = best_model.predict(X_test)\n",
    "\n",
    "print(\"Decision Tree Accuracy (Best):\", accuracy_score(y_test, y_pred_best_tree))\n",
    "print(\"Confusion Matrix (Best):\\n\", confusion_matrix(y_test, y_pred_best_tree))\n",
    "print(\"Classification Report (Best):\\n\", classification_report(y_test, y_pred_best_tree))\n"
   ]
  },
  {
   "cell_type": "markdown",
   "id": "1c570410",
   "metadata": {},
   "source": [
    "#### Evaluation:\n",
    "Accuracy of 58%; certainly an imporovement! But nothing substantial. \n",
    "\n",
    "Despite evening the distribution, we are still not seeing the model perform well. This is likely because 7k records\n",
    "is probably not enough to get good predictive capacity over our 7 categories. \n",
    "\n",
    "Let's engineer the categories into pos/neg binary classification and see if that improves our results."
   ]
  },
  {
   "cell_type": "code",
   "execution_count": null,
   "id": "9ce8bb37",
   "metadata": {},
   "outputs": [],
   "source": [
    "Merge Datasets: done!\n",
    "Extract Features: done!\n",
    "Scale Data: done\n",
    "Clean Data: done!\n",
    "SMOTE for underrepresentation: no improvement \n",
    "Augment Data: no improvement\n",
    "Feature Selection: no improvement\n"
   ]
  }
 ],
 "metadata": {
  "kernelspec": {
   "display_name": "Python (learn-env)",
   "language": "python",
   "name": "learn-env"
  },
  "language_info": {
   "codemirror_mode": {
    "name": "ipython",
    "version": 3
   },
   "file_extension": ".py",
   "mimetype": "text/x-python",
   "name": "python",
   "nbconvert_exporter": "python",
   "pygments_lexer": "ipython3",
   "version": "3.8.5"
  }
 },
 "nbformat": 4,
 "nbformat_minor": 5
}
