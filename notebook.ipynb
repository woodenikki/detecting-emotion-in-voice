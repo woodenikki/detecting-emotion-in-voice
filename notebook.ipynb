{
 "cells": [
  {
   "cell_type": "markdown",
   "id": "bc0581bd",
   "metadata": {},
   "source": [
    "# MoodWave: Voice-Driven Emotion Detection"
   ]
  },
  {
   "cell_type": "markdown",
   "id": "d50159e8",
   "metadata": {},
   "source": [
    "## Data Guidelines\n",
    "\n",
    "Your dataset must be:\n",
    "\n",
    "- Appropriate for classification. It should have a categorical outcome or the data needed to engineer one.\n",
    "\n",
    "- Usable to solve a specific business problem. This solution must rely on your classification model.\n",
    "\n",
    "- Somewhat complex. It should contain a minimum of 1000 rows and 10 features.\n",
    "\n",
    "- Unfamiliar. It can't be one we've already worked with during the course or that is commonly used for demonstration purposes (e.g. Titanic).\n",
    "\n",
    "- Manageable. Stick to datasets that you can model using the techniques introduced in Phase 3.\n"
   ]
  },
  {
   "cell_type": "markdown",
   "id": "f058d1f9",
   "metadata": {},
   "source": [
    "### Phase 3 Concepts used in this project:\n",
    "\n",
    "- Logistic Regression:\n",
    "\n",
    "> Logistic regression is a fundamental classification algorithm that's well-suited for binary and multiclass classification tasks. It's a good choice if your dataset has clear decision boundaries.\n",
    "\n",
    "- Decision Trees:\n",
    "\n",
    "> Decision trees are versatile and interpretable models that can handle both categorical and continuous data. They are particularly useful when you want to understand the decision-making process of your model.\n",
    "\n",
    "- Evaluation Metrics (Confusion Matrices, ROC Curves, AUC):\n",
    "\n",
    "> These metrics are essential for assessing the performance of your classification model. They will help you understand how well your model distinguishes between different emotional states.\n",
    "\n",
    "- Hyperparameter Tuning and Pruning:\n",
    "\n",
    "> When using decision trees, tuning hyperparameters and pruning are important to avoid overfitting and to ensure your model generalizes well to new data.\n",
    "\n",
    "- Binary Classification\n",
    "\n",
    "> When audio augmentation did not prove (too) effective, ... [TODO]"
   ]
  },
  {
   "cell_type": "markdown",
   "id": "e83b8f8f",
   "metadata": {},
   "source": [
    "## Data Understanding\n",
    "\n",
    "In this project, we are dealing with four datasets containing audio recordings in the .wav format. Each audio recording is labeled with an emotion that the speaker is evoking in their statement. Our goal is to build a model that can successfully map an emotion to a given voice clip of someone speaking.\n",
    "\n",
    "To achieve this, we will extract various features from the audio recordings that are relevant for analyzing speech and emotion. Here are the features we will be working with and their significance:\n",
    "\n",
    "1. **Mel-frequency Cepstral Coefficients (MFCCs):** MFCCs are a compact representation of the short-term power spectrum of a sound. They are widely used in speech recognition and audio analysis tasks because they capture the essential characteristics of the audio signal while being robust to noise and other variabilities. MFCCs are particularly useful for identifying the phonetic content of speech, which can be helpful in determining the emotional state of the speaker.\n",
    "\n",
    "2. **Spectral Centroid:** The spectral centroid is a measure of the brightness or sharpness of a sound. It represents the weighted mean frequency of the spectrum and can be used to distinguish between different types of sounds or emotions. For example, a bright, harsh sound might have a higher spectral centroid than a mellow, soft sound.\n",
    "\n",
    "3. **Chroma Features:** Chroma features describe the distribution of energy across different pitch classes (notes) in the audio signal. They are useful for capturing tonal information, which can be relevant for identifying emotions in speech, particularly those related to intonation patterns and stress.\n",
    "\n",
    "4. **Zero-Crossing Rate:** The zero-crossing rate is a measure of the number of times the audio signal crosses the zero amplitude axis within a given time frame. It can be used to distinguish between different types of sounds, such as voiced and unvoiced speech, and can provide insights into the energy distribution of the audio signal.\n",
    "RMS Energy: The Root Mean Square (RMS) energy is a measure of the overall energy or loudness of an audio signal. It can be useful for detecting variations in volume or intensity, which can be indicative of certain emotions, such as anger or excitement.\n",
    "\n",
    "5. **Pitch:** The pitch feature represents the fundamental frequency of the audio signal. It is closely related to the perception of tone and can be useful for analyzing the intonation patterns and stress levels in speech, which can be indicators of different emotional states.\n",
    "\n",
    "---\n",
    "\n",
    "By extracting and analyzing these features, we can capture various acoustic characteristics of the speech signal that may be relevant for distinguishing between different emotions. This multi-faceted approach can provide a more comprehensive representation of the audio data, potentially leading to better performance in the emotion classification task."
   ]
  },
  {
   "cell_type": "markdown",
   "id": "36d058be",
   "metadata": {},
   "source": [
    "## Data Preperation\n",
    "\n",
    "Here 4 most popular datasets in English: Crema, Ravdess, Savee and Tess. Each of them contains audio in .wav format with some main labels.\n",
    "\n",
    "Because our data isn't inherinantly in a csv / dataframe format, we will have to create it from scratch!\n",
    "\n",
    "First, we will pull all data into their own dataframe, making note of *where* the file is, so we can later pull our features from each audio file. \n",
    "\n",
    "After each dataset has been imported into its own dataframe, we will merge them all into one dataframe. Then, we can extract our desired audio features:\n",
    "\n",
    "- Mel-frequency cepstral coefficients (MFCCs)\n",
    "- Spectral centroid\n",
    "- Chroma features\n",
    "- Zero-crossing rate\n",
    "- RMS energy\n",
    "- Pitch\n",
    "\n"
   ]
  },
  {
   "cell_type": "code",
   "execution_count": 115,
   "id": "2fc854e6",
   "metadata": {},
   "outputs": [],
   "source": [
    "import tensorflow as tf\n",
    "import pandas as pd\n",
    "import numpy as np\n",
    "import warnings\n",
    "import zipfile\n",
    "import librosa\n",
    "import random\n",
    "import os\n",
    "\n",
    "import seaborn as sns\n",
    "import matplotlib.pyplot as plt\n",
    "\n",
    "from sklearn.metrics import accuracy_score, confusion_matrix, classification_report\n",
    "from sklearn.feature_selection import VarianceThreshold\n",
    "from sklearn.model_selection import train_test_split\n",
    "from sklearn.preprocessing import PolynomialFeatures, LabelEncoder, OneHotEncoder\n",
    "from sklearn.linear_model import LogisticRegression\n",
    "from sklearn.tree import DecisionTreeClassifier\n",
    "from sklearn.model_selection import GridSearchCV\n",
    "from sklearn.preprocessing import StandardScaler\n",
    "from sklearn.preprocessing import LabelEncoder\n",
    "from sklearn.utils import resample\n",
    "from sklearn.utils import class_weight\n",
    "from collections import Counter\n",
    "\n",
    "from tensorflow.keras.utils import to_categorical\n",
    "from tensorflow.keras.models import Sequential\n",
    "from tensorflow.keras.layers import Dense, Dropout, BatchNormalization\n",
    "from tensorflow.keras.callbacks import EarlyStopping\n",
    "from tensorflow.keras.layers import Dense, Conv1D, MaxPooling1D, Flatten, Dropout\n",
    "from tensorflow.keras.optimizers import Adam"
   ]
  },
  {
   "cell_type": "code",
   "execution_count": 40,
   "id": "170ba4b1",
   "metadata": {},
   "outputs": [],
   "source": [
    "# data is zipped, and stored in folders for which dataset they came from:\n",
    "\n",
    "# Define the path to the zipped dataset\n",
    "zip_file_path = 'dataset.zip'\n",
    "extracted_folder_path = 'dataset'\n",
    "\n",
    "# Unzip the dataset\n",
    "with zipfile.ZipFile(zip_file_path, 'r') as zip_ref:\n",
    "    zip_ref.extractall(extracted_folder_path)\n",
    "\n",
    "# Crema\n",
    "# Ravdess\n",
    "# Savee\n",
    "# Tess"
   ]
  },
  {
   "cell_type": "code",
   "execution_count": 41,
   "id": "3b3f4702",
   "metadata": {},
   "outputs": [
    {
     "name": "stdout",
     "output_type": "stream",
     "text": [
      "              filename  emotion           path\n",
      "0  1001_DFA_ANG_XX.wav    angry  dataset\\Crema\n",
      "1  1001_DFA_DIS_XX.wav  disgust  dataset\\Crema\n",
      "2  1001_DFA_FEA_XX.wav     fear  dataset\\Crema\n",
      "3  1001_DFA_HAP_XX.wav    happy  dataset\\Crema\n",
      "4  1001_DFA_NEU_XX.wav  neutral  dataset\\Crema\n"
     ]
    }
   ],
   "source": [
    "# Define the path to the Crema folder\n",
    "crema_folder_path = os.path.join(extracted_folder_path, 'Crema')\n",
    "\n",
    "# Verify that we can access the files and extract emotion labels\n",
    "data = []\n",
    "\n",
    "# Loop through each file in the Crema folder\n",
    "for file_name in os.listdir(crema_folder_path):\n",
    "    if file_name.endswith('.wav'):\n",
    "        # Extract the emotion label from the filename\n",
    "        parts = file_name.split('_')\n",
    "        emotion_code = parts[2]\n",
    "        \n",
    "        # Map the emotion code to the actual emotion label\n",
    "        emotion_map = {\n",
    "            'SAD': 'sadness',\n",
    "            'ANG': 'angry',\n",
    "            'DIS': 'disgust',\n",
    "            'FEA': 'fear',\n",
    "            'HAP': 'happy',\n",
    "            'NEU': 'neutral'\n",
    "        }\n",
    "        emotion_label = emotion_map.get(emotion_code, 'unknown')\n",
    "        \n",
    "        # Store the data with the directory path minus the filename\n",
    "        data.append({'filename': file_name, 'emotion': emotion_label, 'path': crema_folder_path})\n",
    "\n",
    "# Convert the data into a DataFrame for easy access\n",
    "df_crema = pd.DataFrame(data)\n",
    "\n",
    "# Display the first few rows to verify\n",
    "print(df_crema.head())"
   ]
  },
  {
   "cell_type": "code",
   "execution_count": 42,
   "id": "acc15af8",
   "metadata": {},
   "outputs": [
    {
     "name": "stdout",
     "output_type": "stream",
     "text": [
      "             filename emotion                    path\n",
      "0  OAF_back_angry.wav   angry  dataset\\Tess\\OAF_angry\n",
      "1   OAF_bar_angry.wav   angry  dataset\\Tess\\OAF_angry\n",
      "2  OAF_base_angry.wav   angry  dataset\\Tess\\OAF_angry\n",
      "3  OAF_bath_angry.wav   angry  dataset\\Tess\\OAF_angry\n",
      "4  OAF_bean_angry.wav   angry  dataset\\Tess\\OAF_angry\n"
     ]
    }
   ],
   "source": [
    "# Define the path to the Tess folder\n",
    "tess_folder_path = os.path.join(extracted_folder_path, 'Tess')\n",
    "\n",
    "# Prepare to store the data\n",
    "data = []\n",
    "\n",
    "# Loop through each emotion folder in the Tess directory\n",
    "for emotion_folder in os.listdir(tess_folder_path):\n",
    "    # Get the full path to the emotion folder\n",
    "    emotion_folder_path = os.path.join(tess_folder_path, emotion_folder)\n",
    "    \n",
    "    # Extract the emotion from the folder name (e.g., \"OAF_angry\" -> \"angry\")\n",
    "    emotion_label = emotion_folder.split('_')[1]\n",
    "    \n",
    "    # Loop through each file in the emotion folder\n",
    "    for file_name in os.listdir(emotion_folder_path):\n",
    "        if file_name.endswith('.wav'):\n",
    "            # Store the data with the directory path minus the filename\n",
    "            data.append({\n",
    "                'filename': file_name, \n",
    "                'emotion': emotion_label, \n",
    "                'path': emotion_folder_path\n",
    "            })\n",
    "\n",
    "# Convert the data into a DataFrame for easy access\n",
    "df_tess = pd.DataFrame(data)\n",
    "\n",
    "# Display the first few rows to verify\n",
    "print(df_tess.head())"
   ]
  },
  {
   "cell_type": "code",
   "execution_count": 43,
   "id": "f3ec0fe2",
   "metadata": {},
   "outputs": [
    {
     "name": "stdout",
     "output_type": "stream",
     "text": [
      "     filename  emotion           path\n",
      "0  DC_a01.wav  unknown  dataset\\Savee\n",
      "1  DC_a02.wav  unknown  dataset\\Savee\n",
      "2  DC_a03.wav  unknown  dataset\\Savee\n",
      "3  DC_a04.wav  unknown  dataset\\Savee\n",
      "4  DC_a05.wav  unknown  dataset\\Savee\n"
     ]
    }
   ],
   "source": [
    "# Define the path to the Savee folder\n",
    "savee_folder_path = os.path.join(extracted_folder_path, 'Savee')\n",
    "\n",
    "# Prepare to store the data\n",
    "data = []\n",
    "\n",
    "# Define the emotion mapping based on the prefixes\n",
    "emotion_map = {\n",
    "    'a': 'anger',\n",
    "    'd': 'disgust',\n",
    "    'f': 'fear',\n",
    "    'h': 'happiness',\n",
    "    'n': 'neutral',\n",
    "    'sa': 'sadness',\n",
    "    'su': 'surprise'\n",
    "}\n",
    "\n",
    "# Loop through each file in the Savee folder\n",
    "for file_name in os.listdir(savee_folder_path):\n",
    "    if file_name.endswith('.wav'):\n",
    "        # Extract the prefix from the filename to determine the emotion\n",
    "        prefix = file_name.split('_')[1][:2]\n",
    "        \n",
    "        # Map the prefix to the corresponding emotion\n",
    "        emotion_label = emotion_map.get(prefix, 'unknown')\n",
    "        \n",
    "        # Store the data with the directory path minus the filename\n",
    "        data.append({\n",
    "            'filename': file_name, \n",
    "            'emotion': emotion_label, \n",
    "            'path': savee_folder_path\n",
    "        })\n",
    "\n",
    "# Convert the data into a DataFrame for easy access\n",
    "df_savee = pd.DataFrame(data)\n",
    "\n",
    "# Display the first few rows to verify\n",
    "print(df_savee.head())"
   ]
  },
  {
   "cell_type": "code",
   "execution_count": 44,
   "id": "347e278f",
   "metadata": {},
   "outputs": [
    {
     "name": "stdout",
     "output_type": "stream",
     "text": [
      "                   filename  emotion  \\\n",
      "0  03-01-01-01-01-01-01.wav  neutral   \n",
      "1  03-01-01-01-01-02-01.wav  neutral   \n",
      "2  03-01-01-01-02-01-01.wav  neutral   \n",
      "3  03-01-01-01-02-02-01.wav  neutral   \n",
      "4  03-01-02-01-01-01-01.wav     calm   \n",
      "\n",
      "                                                path  \n",
      "0  dataset\\Ravdess\\audio_speech_actors_01-24\\Acto...  \n",
      "1  dataset\\Ravdess\\audio_speech_actors_01-24\\Acto...  \n",
      "2  dataset\\Ravdess\\audio_speech_actors_01-24\\Acto...  \n",
      "3  dataset\\Ravdess\\audio_speech_actors_01-24\\Acto...  \n",
      "4  dataset\\Ravdess\\audio_speech_actors_01-24\\Acto...  \n"
     ]
    }
   ],
   "source": [
    "# Define the path to the Ravdess folder\n",
    "ravdess_folder_path = os.path.join(extracted_folder_path, 'Ravdess', 'audio_speech_actors_01-24')\n",
    "\n",
    "# Prepare to store the data\n",
    "data = []\n",
    "\n",
    "# Define the emotion mapping based on the third component in the filename\n",
    "emotion_map = {\n",
    "    '01': 'neutral',\n",
    "    '02': 'calm',\n",
    "    '03': 'happy',\n",
    "    '04': 'sad',\n",
    "    '05': 'angry',\n",
    "    '06': 'fearful',\n",
    "    '07': 'disgust',\n",
    "    '08': 'surprised'\n",
    "}\n",
    "\n",
    "# Loop through each actor's folder in the Ravdess directory\n",
    "for actor_folder in os.listdir(ravdess_folder_path):\n",
    "    actor_folder_path = os.path.join(ravdess_folder_path, actor_folder)\n",
    "    \n",
    "    # Loop through each file in the actor's folder\n",
    "    for file_name in os.listdir(actor_folder_path):\n",
    "        if file_name.endswith('.wav'):\n",
    "            # Extract the third component from the filename to determine the emotion\n",
    "            emotion_code = file_name.split('-')[2]\n",
    "            \n",
    "            # Map the emotion code to the corresponding emotion label\n",
    "            emotion_label = emotion_map.get(emotion_code, 'unknown')\n",
    "            \n",
    "            # Store the data with the directory path minus the filename\n",
    "            data.append({\n",
    "                'filename': file_name, \n",
    "                'emotion': emotion_label, \n",
    "                'path': actor_folder_path\n",
    "            })\n",
    "\n",
    "# Convert the data into a DataFrame for easy access\n",
    "df_ravdess = pd.DataFrame(data)\n",
    "\n",
    "# Display the first few rows to verify\n",
    "print(df_ravdess.head())"
   ]
  },
  {
   "cell_type": "markdown",
   "id": "ad1882e1",
   "metadata": {},
   "source": [
    "### Combining datasets \n",
    "\n",
    "We will merge the datsets into one dataframe, and assign unique identifiers\n",
    "- Concatenate the DataFrames for each dataset.\n",
    "- Assign a unique ID to each entry based on the dataset."
   ]
  },
  {
   "cell_type": "code",
   "execution_count": 45,
   "id": "c83f7ee8",
   "metadata": {},
   "outputs": [
    {
     "name": "stdout",
     "output_type": "stream",
     "text": [
      "       id             filename  emotion           path\n",
      "0  c_0001  1001_DFA_ANG_XX.wav    angry  dataset\\Crema\n",
      "1  c_0002  1001_DFA_DIS_XX.wav  disgust  dataset\\Crema\n",
      "2  c_0003  1001_DFA_FEA_XX.wav     fear  dataset\\Crema\n",
      "3  c_0004  1001_DFA_HAP_XX.wav    happy  dataset\\Crema\n",
      "4  c_0005  1001_DFA_NEU_XX.wav  neutral  dataset\\Crema\n"
     ]
    }
   ],
   "source": [
    "# Add a unique ID column to each dataset\n",
    "df_crema['id'] = ['c_{:04d}'.format(i + 1) for i in range(len(df_crema))]\n",
    "df_tess['id'] = ['t_{:04d}'.format(i + 1) for i in range(len(df_tess))]\n",
    "df_savee['id'] = ['s_{:04d}'.format(i + 1) for i in range(len(df_savee))]\n",
    "df_ravdess['id'] = ['r_{:04d}'.format(i + 1) for i in range(len(df_ravdess))]\n",
    "\n",
    "# Merge the datasets into a single DataFrame\n",
    "merged_data = pd.concat([df_crema, df_tess, df_savee, df_ravdess], ignore_index=True)\n",
    "\n",
    "# Reorder columns to have 'id' as the first column\n",
    "merged_data = merged_data[['id', 'filename', 'emotion', 'path']]\n",
    "\n",
    "# Display the first few rows of the combined DataFrame\n",
    "print(merged_data.head())"
   ]
  },
  {
   "cell_type": "code",
   "execution_count": 46,
   "id": "db114370",
   "metadata": {},
   "outputs": [
    {
     "name": "stdout",
     "output_type": "stream",
     "text": [
      "Total rows in dataset: 12162\n"
     ]
    }
   ],
   "source": [
    "# remember, we need at least 1000 rows to meet our requirements. \n",
    "print(f\"Total rows in dataset: {merged_data.shape[0]}\")"
   ]
  },
  {
   "cell_type": "markdown",
   "id": "38622469",
   "metadata": {},
   "source": [
    "### Extracting Features\n",
    "\n",
    "Again, these are the features we will extract:\n",
    "\n",
    "- **Mel-frequency cepstral coefficients (MFCCs):** Represents the short-term power spectrum of sound, commonly used in speech and audio processing to capture the timbral texture of audio.\n",
    "- **Spectral centroid:** Indicates the \"center of mass\" of the spectrum and is often associated with the perceived brightness of a sound.\n",
    "- **Chroma features:** Represents the 12 different pitch classes and captures harmonic and melodic characteristics of music / voice.\n",
    "- **Zero-crossing rate:** Measures the rate at which the signal changes sign, giving insight into the noisiness or percussiveness of the sound.\n",
    "- **RMS energy:** Reflects the root mean square of the audio signal and indicates the energy or loudness of the sound.\n",
    "- **Pitch:** Refers to the perceived frequency of a sound, determining how high or low a sound is.\n",
    "\n",
    "We will be using the `librosa` package to process these audio features. [Here](https://librosa.org/doc/latest/index.html) is a link to the librosa documentation.\n",
    "\n",
    "**Note**: adding suppression for *UserWarning: Trying to estimate tuning from empty frequency set*. This is likely do to either:* **silence / low energy** (too quiet to perform reliable pitch estimation), or the file had **too short of a duration**. This warning shows up even when setting the pitch to 0 in this case.\n"
   ]
  },
  {
   "cell_type": "code",
   "execution_count": 47,
   "id": "70902b35",
   "metadata": {},
   "outputs": [],
   "source": [
    "def extract_features(data, sr=None, from_file=True):\n",
    "    if from_file:\n",
    "        y, sr = librosa.load(data, sr=sr)\n",
    "    else:\n",
    "        y = data\n",
    "\n",
    "    if len(y) == 0:\n",
    "        print(f\"Warning: The file {data} is empty.\")\n",
    "        return (np.zeros(13), np.zeros(4), np.zeros(12), 0, 0, 0, 0)\n",
    "\n",
    "    # Extract MFCCs and compute statistics\n",
    "    mfccs = librosa.feature.mfcc(y=y, sr=sr, n_mfcc=13)\n",
    "    mfccs_mean = mfccs.mean(axis=1)\n",
    "    mfccs_std = mfccs.std(axis=1)\n",
    "    mfccs_skewness = np.apply_along_axis(lambda x: np.mean((x - np.mean(x))**3) / (np.std(x)**3 + 1e-6), axis=1, arr=mfccs)\n",
    "    mfccs_kurtosis = np.apply_along_axis(lambda x: np.mean((x - np.mean(x))**4) / (np.std(x)**4 + 1e-6), axis=1, arr=mfccs)\n",
    "\n",
    "    # Extract spectral centroid and compute statistics\n",
    "    spectral_centroid = librosa.feature.spectral_centroid(y=y, sr=sr)\n",
    "    spectral_centroid_mean = np.mean(spectral_centroid)\n",
    "    spectral_centroid_std = np.std(spectral_centroid)\n",
    "    spectral_centroid_skewness = np.mean((spectral_centroid - spectral_centroid_mean)**3) / (spectral_centroid_std**3 + 1e-6)\n",
    "    spectral_centroid_kurtosis = np.mean((spectral_centroid - spectral_centroid_mean)**4) / (spectral_centroid_std**4 + 1e-6)\n",
    "\n",
    "    # Extract other features\n",
    "    chroma = np.mean(librosa.feature.chroma_stft(y=y, sr=sr).T, axis=0)\n",
    "    zero_crossing_rate = np.mean(librosa.feature.zero_crossing_rate(y).T, axis=0)\n",
    "    rms = np.mean(librosa.feature.rms(y=y).T, axis=0)\n",
    "\n",
    "    # Extract pitch using the piptrack function\n",
    "    pitches, magnitudes = librosa.piptrack(y=y, sr=sr)\n",
    "    pitch = np.mean(pitches[pitches > 0]) if np.any(pitches > 0) else 0\n",
    "\n",
    "    # Return all the features in a tuple\n",
    "    return (\n",
    "        mfccs_mean,\n",
    "        mfccs_std,   \n",
    "        mfccs_skewness,  \n",
    "        mfccs_kurtosis,  \n",
    "        [spectral_centroid_mean, spectral_centroid_std, spectral_centroid_skewness, spectral_centroid_kurtosis],  \n",
    "        chroma,  \n",
    "        zero_crossing_rate,  \n",
    "        rms,  \n",
    "        pitch\n",
    "    )"
   ]
  },
  {
   "cell_type": "code",
   "execution_count": 48,
   "id": "239a628f",
   "metadata": {},
   "outputs": [
    {
     "name": "stdout",
     "output_type": "stream",
     "text": [
      "MFCCs Mean: [-306.0274       92.670235      8.491312     23.965403      7.4779935\n",
      "   -5.759455    -11.883088     -9.676736     -3.9967465   -13.352565\n",
      "    0.40819725   -9.709486     -6.1271243 ]\n",
      "Spectral Centroid: [159.39034    28.411352   32.853794   18.576996   17.579239   18.029716\n",
      "  15.681951   16.126402    6.8317485   7.5677075   7.519526    7.9452553\n",
      "   6.322871 ]\n",
      "Chroma Features: [ 0.20764599 -1.66643656 -0.66651808 -0.82776392 -1.87041241 -0.37326772\n",
      " -0.65912122 -0.56676317  0.46111047 -0.57118155  0.52761803 -0.61640204\n",
      " -0.07975197]\n",
      "Zero-Crossing Rate: [1.53089086 6.25596779 2.06268014 4.3404881  6.86903528 1.79147207\n",
      " 1.89175263 2.70528984 3.21104205 2.8317225  2.31720692 3.37706481\n",
      " 4.10525129]\n",
      "RMS Energy: [1584.9930703294388, 600.4107533810885, 1.645967919033302, 5.91406452763243]\n",
      "Pitch: [0.37491405 0.37949282 0.41722107 0.39018238 0.4148401  0.2977837\n",
      " 0.28898865 0.3575554  0.35190624 0.42918485 0.6879576  0.5454907 ]\n"
     ]
    }
   ],
   "source": [
    "# testing our extract_features function:\n",
    "first_row = merged_data.iloc[0]\n",
    "file_path = os.path.join(first_row['path'], first_row['filename'])\n",
    "\n",
    "# Extract features directly from the file path\n",
    "features = extract_features(file_path)\n",
    "\n",
    "# Print out each feature with its corresponding values\n",
    "print(\"MFCCs Mean:\", features[0])\n",
    "print(\"Spectral Centroid:\", features[1])\n",
    "print(\"Chroma Features:\", features[2])\n",
    "print(\"Zero-Crossing Rate:\", features[3])\n",
    "print(\"RMS Energy:\", features[4])\n",
    "print(\"Pitch:\", features[5])"
   ]
  },
  {
   "cell_type": "markdown",
   "id": "b227d62d",
   "metadata": {},
   "source": [
    "### Validating the Values:\n",
    "\n",
    "- **MFCCs:** Typically, MFCC values range from -400 to 400, depending on the scale of the input signal.\n",
    "> All values: **pass**\n",
    "\n",
    "- **Spectral Centroid:** This value represents the \"center of mass\" of the spectrum and typically ranges between 0 and the - Nyquist frequency (half the sampling rate).\n",
    "> 1584.99: **pass**\n",
    "\n",
    "- **Chroma Features:** These represent the energy distribution across 12 pitch classes. They are normalized, so values between 0 and 1 are expected.\n",
    "> All values: **pass**\n",
    "\n",
    "- **Zero-Crossing Rate:** This rate indicates how frequently the signal changes sign. It ranges from 0 to 1. \n",
    "> 0.1018: **pass**\n",
    "\n",
    "- **RMS Energy:** This value should be within the range of 0 to 1 for normalized signals.\n",
    "> 0.0419: **pass**\n",
    "\n",
    "- **Pitch:** Pitch values are measured in Hz, and depends on the type of audio.\n",
    "> 1211.95: **pass**"
   ]
  },
  {
   "cell_type": "markdown",
   "id": "fabab6bf",
   "metadata": {},
   "source": [
    "Now that we've validated our extract_features function, we can apply it to the rest of our dataframe.\n",
    "\n",
    "**Notes**: \n",
    "- This cell can take a while to run! About 5 minutes\n",
    "- suppressed UserWarning: Trying to estimate tuning from empty frequency set. "
   ]
  },
  {
   "cell_type": "code",
   "execution_count": 49,
   "id": "cd8dd398",
   "metadata": {},
   "outputs": [
    {
     "name": "stderr",
     "output_type": "stream",
     "text": [
      "H:\\Anaconda\\envs\\learn-env\\lib\\site-packages\\librosa\\core\\pitch.py:101: UserWarning: Trying to estimate tuning from empty frequency set.\n",
      "  return pitch_tuning(\n"
     ]
    },
    {
     "name": "stdout",
     "output_type": "stream",
     "text": [
      "id                            0\n",
      "filename                      0\n",
      "emotion                       0\n",
      "path                          0\n",
      "mfccs_mean                    0\n",
      "mfccs_std                     0\n",
      "mfccs_skewness                0\n",
      "mfccs_kurtosis                0\n",
      "spectral_centroid             0\n",
      "spectral_centroid_std         0\n",
      "spectral_centroid_skewness    0\n",
      "spectral_centroid_kurtosis    0\n",
      "chroma                        0\n",
      "zero_crossing_rate            0\n",
      "rms                           0\n",
      "pitch                         0\n",
      "dtype: int64\n"
     ]
    }
   ],
   "source": [
    "# Empty lists to store features\n",
    "mfccs_mean_list = []\n",
    "mfccs_std_list = []\n",
    "mfccs_skewness_list = []\n",
    "mfccs_kurtosis_list = []\n",
    "\n",
    "spectral_centroid_list = []\n",
    "spectral_centroid_std_list = []\n",
    "spectral_centroid_skewness_list = []\n",
    "spectral_centroid_kurtosis_list = []\n",
    "\n",
    "chroma_list = []\n",
    "zero_crossing_rate_list = []\n",
    "rms_list = []\n",
    "pitch_list = []\n",
    "\n",
    "# Iterate over each row in the DataFrame\n",
    "for index, row in merged_data.iterrows():\n",
    "    file_path = os.path.join(row['path'], row['filename'])  # Construct the file path\n",
    "    \n",
    "    # Extract features directly from the file path\n",
    "    features = extract_features(file_path)\n",
    "    \n",
    "    # Extract MFCCs (mean, std, skewness, kurtosis)\n",
    "    mfccs_mean_list.append(features[0])  # MFCC mean\n",
    "    mfccs_std_list.append(features[1])   # MFCC std\n",
    "    mfccs_skewness_list.append(features[2])  # MFCC skewness\n",
    "    mfccs_kurtosis_list.append(features[3])  # MFCC kurtosis\n",
    "    \n",
    "    # Extract Spectral Centroid (mean, std, skewness, kurtosis)\n",
    "    spectral_centroid_list.append(features[4][0])  # Spectral centroid mean\n",
    "    spectral_centroid_std_list.append(features[4][1])  # Spectral centroid std\n",
    "    spectral_centroid_skewness_list.append(features[4][2])  # Spectral centroid skewness\n",
    "    spectral_centroid_kurtosis_list.append(features[4][3])  # Spectral centroid kurtosis\n",
    "\n",
    "    # Extract other features\n",
    "    chroma_list.append(features[5])  # Chroma feature\n",
    "    zero_crossing_rate_list.append(features[6])  # Zero-crossing rate\n",
    "    rms_list.append(features[7])  # RMS energy\n",
    "    pitch_list.append(features[8])  # Pitch\n",
    "\n",
    "# Add the features to the DataFrame\n",
    "merged_data['mfccs_mean'] = mfccs_mean_list\n",
    "merged_data['mfccs_std'] = mfccs_std_list\n",
    "merged_data['mfccs_skewness'] = mfccs_skewness_list\n",
    "merged_data['mfccs_kurtosis'] = mfccs_kurtosis_list\n",
    "\n",
    "merged_data['spectral_centroid'] = spectral_centroid_list\n",
    "merged_data['spectral_centroid_std'] = spectral_centroid_std_list\n",
    "merged_data['spectral_centroid_skewness'] = spectral_centroid_skewness_list\n",
    "merged_data['spectral_centroid_kurtosis'] = spectral_centroid_kurtosis_list\n",
    "\n",
    "merged_data['chroma'] = chroma_list\n",
    "merged_data['zero_crossing_rate'] = zero_crossing_rate_list\n",
    "merged_data['rms'] = rms_list\n",
    "merged_data['pitch'] = pitch_list\n",
    "\n",
    "# Check for any NaN values in the DataFrame\n",
    "print(merged_data.isnull().sum())"
   ]
  },
  {
   "cell_type": "code",
   "execution_count": 13,
   "id": "1e9b1141",
   "metadata": {},
   "outputs": [
    {
     "data": {
      "text/html": [
       "<div>\n",
       "<style scoped>\n",
       "    .dataframe tbody tr th:only-of-type {\n",
       "        vertical-align: middle;\n",
       "    }\n",
       "\n",
       "    .dataframe tbody tr th {\n",
       "        vertical-align: top;\n",
       "    }\n",
       "\n",
       "    .dataframe thead th {\n",
       "        text-align: right;\n",
       "    }\n",
       "</style>\n",
       "<table border=\"1\" class=\"dataframe\">\n",
       "  <thead>\n",
       "    <tr style=\"text-align: right;\">\n",
       "      <th></th>\n",
       "      <th>id</th>\n",
       "      <th>filename</th>\n",
       "      <th>emotion</th>\n",
       "      <th>path</th>\n",
       "      <th>mfccs</th>\n",
       "      <th>spectral_centroid</th>\n",
       "      <th>chroma</th>\n",
       "      <th>zero_crossing_rate</th>\n",
       "      <th>rms</th>\n",
       "      <th>pitch</th>\n",
       "    </tr>\n",
       "  </thead>\n",
       "  <tbody>\n",
       "    <tr>\n",
       "      <th>0</th>\n",
       "      <td>c_0001</td>\n",
       "      <td>1001_DFA_ANG_XX.wav</td>\n",
       "      <td>angry</td>\n",
       "      <td>dataset\\Crema</td>\n",
       "      <td>[-306.0274, 92.670235, 8.491312, 23.965403, 7....</td>\n",
       "      <td>[1584.9930703294388]</td>\n",
       "      <td>[0.37491405, 0.37949282, 0.41722107, 0.3901823...</td>\n",
       "      <td>[0.10186767578125]</td>\n",
       "      <td>[0.041986194]</td>\n",
       "      <td>1211.950684</td>\n",
       "    </tr>\n",
       "    <tr>\n",
       "      <th>1</th>\n",
       "      <td>c_0002</td>\n",
       "      <td>1001_DFA_DIS_XX.wav</td>\n",
       "      <td>disgust</td>\n",
       "      <td>dataset\\Crema</td>\n",
       "      <td>[-346.39963, 95.83912, 10.516282, 31.619215, 1...</td>\n",
       "      <td>[1531.650486749737]</td>\n",
       "      <td>[0.47289878, 0.4768195, 0.33598945, 0.34610763...</td>\n",
       "      <td>[0.09306105522260275]</td>\n",
       "      <td>[0.015996357]</td>\n",
       "      <td>1256.617188</td>\n",
       "    </tr>\n",
       "    <tr>\n",
       "      <th>2</th>\n",
       "      <td>c_0003</td>\n",
       "      <td>1001_DFA_FEA_XX.wav</td>\n",
       "      <td>fear</td>\n",
       "      <td>dataset\\Crema</td>\n",
       "      <td>[-321.42026, 94.76091, 8.155397, 23.323242, 11...</td>\n",
       "      <td>[1489.0888388536061]</td>\n",
       "      <td>[0.3272673, 0.39935032, 0.35215598, 0.38248017...</td>\n",
       "      <td>[0.08428596047794118]</td>\n",
       "      <td>[0.045776337]</td>\n",
       "      <td>992.574402</td>\n",
       "    </tr>\n",
       "    <tr>\n",
       "      <th>3</th>\n",
       "      <td>c_0004</td>\n",
       "      <td>1001_DFA_HAP_XX.wav</td>\n",
       "      <td>happy</td>\n",
       "      <td>dataset\\Crema</td>\n",
       "      <td>[-303.30374, 92.52889, 4.231231, 27.970133, 10...</td>\n",
       "      <td>[1555.37603547111]</td>\n",
       "      <td>[0.3150873, 0.31478375, 0.30918238, 0.3423785,...</td>\n",
       "      <td>[0.0848781779661017]</td>\n",
       "      <td>[0.042300183]</td>\n",
       "      <td>1102.953003</td>\n",
       "    </tr>\n",
       "    <tr>\n",
       "      <th>4</th>\n",
       "      <td>c_0005</td>\n",
       "      <td>1001_DFA_NEU_XX.wav</td>\n",
       "      <td>neutral</td>\n",
       "      <td>dataset\\Crema</td>\n",
       "      <td>[-335.4959, 100.39331, 9.384935, 30.160904, 11...</td>\n",
       "      <td>[1495.3949968411737]</td>\n",
       "      <td>[0.4112704, 0.36269408, 0.3349767, 0.32547352,...</td>\n",
       "      <td>[0.08203125]</td>\n",
       "      <td>[0.020449637]</td>\n",
       "      <td>1041.093628</td>\n",
       "    </tr>\n",
       "  </tbody>\n",
       "</table>\n",
       "</div>"
      ],
      "text/plain": [
       "       id             filename  emotion           path  \\\n",
       "0  c_0001  1001_DFA_ANG_XX.wav    angry  dataset\\Crema   \n",
       "1  c_0002  1001_DFA_DIS_XX.wav  disgust  dataset\\Crema   \n",
       "2  c_0003  1001_DFA_FEA_XX.wav     fear  dataset\\Crema   \n",
       "3  c_0004  1001_DFA_HAP_XX.wav    happy  dataset\\Crema   \n",
       "4  c_0005  1001_DFA_NEU_XX.wav  neutral  dataset\\Crema   \n",
       "\n",
       "                                               mfccs     spectral_centroid  \\\n",
       "0  [-306.0274, 92.670235, 8.491312, 23.965403, 7....  [1584.9930703294388]   \n",
       "1  [-346.39963, 95.83912, 10.516282, 31.619215, 1...   [1531.650486749737]   \n",
       "2  [-321.42026, 94.76091, 8.155397, 23.323242, 11...  [1489.0888388536061]   \n",
       "3  [-303.30374, 92.52889, 4.231231, 27.970133, 10...    [1555.37603547111]   \n",
       "4  [-335.4959, 100.39331, 9.384935, 30.160904, 11...  [1495.3949968411737]   \n",
       "\n",
       "                                              chroma     zero_crossing_rate  \\\n",
       "0  [0.37491405, 0.37949282, 0.41722107, 0.3901823...     [0.10186767578125]   \n",
       "1  [0.47289878, 0.4768195, 0.33598945, 0.34610763...  [0.09306105522260275]   \n",
       "2  [0.3272673, 0.39935032, 0.35215598, 0.38248017...  [0.08428596047794118]   \n",
       "3  [0.3150873, 0.31478375, 0.30918238, 0.3423785,...   [0.0848781779661017]   \n",
       "4  [0.4112704, 0.36269408, 0.3349767, 0.32547352,...           [0.08203125]   \n",
       "\n",
       "             rms        pitch  \n",
       "0  [0.041986194]  1211.950684  \n",
       "1  [0.015996357]  1256.617188  \n",
       "2  [0.045776337]   992.574402  \n",
       "3  [0.042300183]  1102.953003  \n",
       "4  [0.020449637]  1041.093628  "
      ]
     },
     "execution_count": 13,
     "metadata": {},
     "output_type": "execute_result"
    }
   ],
   "source": [
    "merged_data['pitch'] = merged_data['pitch'].fillna(0)\n",
    "merged_data.head()"
   ]
  },
  {
   "cell_type": "markdown",
   "id": "28dd46d2",
   "metadata": {},
   "source": [
    "We won't be able to work with arrays - we will need to extract a meaningful metric and save them in a new column."
   ]
  },
  {
   "cell_type": "markdown",
   "id": "dcee44cb",
   "metadata": {},
   "source": [
    "### Cleaning the Data"
   ]
  },
  {
   "cell_type": "code",
   "execution_count": 187,
   "id": "eb1417aa",
   "metadata": {},
   "outputs": [
    {
     "name": "stdout",
     "output_type": "stream",
     "text": [
      "   mfccs_mean  mfccs_std  mfccs_skewness  mfccs_kurtosis  \\\n",
      "0  -17.963037  26.372070       -0.515480        3.329990   \n",
      "1  -18.657297  21.019888       -0.498601        3.982956   \n",
      "2  -18.552622  25.241508       -0.602645        4.156697   \n",
      "3  -18.460817  24.993519       -0.653859        3.327673   \n",
      "4  -18.111607  20.893410       -0.480883        3.167808   \n",
      "\n",
      "   spectral_centroid_mean  spectral_centroid_std  spectral_centroid_skewness  \\\n",
      "0             1584.993070             600.410753                    1.645968   \n",
      "1             1531.650487             590.708457                    2.221739   \n",
      "2             1489.088839             521.794373                    2.785179   \n",
      "3             1555.376035             476.260688                    2.604170   \n",
      "4             1495.394997             492.130906                    1.597144   \n",
      "\n",
      "   spectral_centroid_kurtosis    chroma  zero_crossing_rate       rms  \\\n",
      "0                    5.914065  0.411293            0.101868  0.041986   \n",
      "1                    8.718056  0.423961            0.093061  0.015996   \n",
      "2                   13.443495  0.413398            0.084286  0.045776   \n",
      "3                   11.342148  0.394820            0.084878  0.042300   \n",
      "4                    6.070896  0.401279            0.082031  0.020450   \n",
      "\n",
      "         pitch           path             filename  emotion  \n",
      "0  1211.950684  dataset\\Crema  1001_DFA_ANG_XX.wav    angry  \n",
      "1  1256.617188  dataset\\Crema  1001_DFA_DIS_XX.wav  disgust  \n",
      "2   992.574402  dataset\\Crema  1001_DFA_FEA_XX.wav     fear  \n",
      "3  1102.953003  dataset\\Crema  1001_DFA_HAP_XX.wav    happy  \n",
      "4  1041.093628  dataset\\Crema  1001_DFA_NEU_XX.wav  neutral  \n"
     ]
    }
   ],
   "source": [
    "# Create a new DataFrame for the cleaned features\n",
    "clean_data = pd.DataFrame()\n",
    "\n",
    "# Store the mean of MFCC components\n",
    "clean_data['mfccs_mean'] = merged_data['mfccs_mean'].apply(lambda x: np.mean(x) if isinstance(x, (list, np.ndarray)) and len(x) > 0 else np.nan)\n",
    "clean_data['mfccs_std'] = merged_data['mfccs_std'].apply(lambda x: np.mean(x) if isinstance(x, (list, np.ndarray)) and len(x) > 0 else np.nan)\n",
    "clean_data['mfccs_skewness'] = merged_data['mfccs_skewness'].apply(lambda x: np.mean(x) if isinstance(x, (list, np.ndarray)) and len(x) > 0 else np.nan)\n",
    "clean_data['mfccs_kurtosis'] = merged_data['mfccs_kurtosis'].apply(lambda x: np.mean(x) if isinstance(x, (list, np.ndarray)) and len(x) > 0 else np.nan)\n",
    "\n",
    "# Store the statistics for Spectral Centroid\n",
    "clean_data['spectral_centroid_mean'] = merged_data['spectral_centroid'].apply(lambda x: x if isinstance(x, (float, int)) else np.nan)\n",
    "clean_data['spectral_centroid_std'] = merged_data['spectral_centroid_std'].apply(lambda x: x if isinstance(x, (float, int)) else np.nan)\n",
    "clean_data['spectral_centroid_skewness'] = merged_data['spectral_centroid_skewness'].apply(lambda x: x if isinstance(x, (float, int)) else np.nan)\n",
    "clean_data['spectral_centroid_kurtosis'] = merged_data['spectral_centroid_kurtosis'].apply(lambda x: x if isinstance(x, (float, int)) else np.nan)\n",
    "\n",
    "# Store the mean of Chroma features\n",
    "clean_data['chroma'] = merged_data['chroma'].apply(lambda x: np.mean(x) if isinstance(x, (list, np.ndarray)) and len(x) > 0 else np.nan)\n",
    "\n",
    "# Store Zero-Crossing Rate and RMS (first element of the list)\n",
    "clean_data['zero_crossing_rate'] = merged_data['zero_crossing_rate'].apply(lambda x: x[0] if isinstance(x, (list, np.ndarray)) and len(x) > 0 else np.nan)\n",
    "clean_data['rms'] = merged_data['rms'].apply(lambda x: x[0] if isinstance(x, (list, np.ndarray)) and len(x) > 0 else np.nan)\n",
    "\n",
    "# Directly store the existing pitch and other metadata\n",
    "clean_data['pitch'] = merged_data['pitch']  # Directly store the existing value\n",
    "clean_data['path'] = merged_data['path']\n",
    "clean_data['filename'] = merged_data['filename']\n",
    "\n",
    "# Add the emotion column\n",
    "clean_data['emotion'] = merged_data['emotion']\n",
    "\n",
    "# Display the new DataFrame\n",
    "print(clean_data.head())"
   ]
  },
  {
   "cell_type": "code",
   "execution_count": 188,
   "id": "2702d0a3",
   "metadata": {},
   "outputs": [
    {
     "name": "stdout",
     "output_type": "stream",
     "text": [
      "mfccs_mean                    0\n",
      "mfccs_std                     0\n",
      "mfccs_skewness                0\n",
      "mfccs_kurtosis                0\n",
      "spectral_centroid_mean        0\n",
      "spectral_centroid_std         0\n",
      "spectral_centroid_skewness    0\n",
      "spectral_centroid_kurtosis    0\n",
      "chroma                        0\n",
      "zero_crossing_rate            0\n",
      "rms                           0\n",
      "pitch                         0\n",
      "path                          0\n",
      "filename                      0\n",
      "emotion                       0\n",
      "dtype: int64\n"
     ]
    }
   ],
   "source": [
    "# Check for any NaN values in the DataFrame\n",
    "print(clean_data.isnull().sum())"
   ]
  },
  {
   "cell_type": "code",
   "execution_count": 189,
   "id": "1b88da6b",
   "metadata": {},
   "outputs": [
    {
     "data": {
      "image/png": "[encoded data removed]",
      "text/plain": [
       "<Figure size 720x432 with 1 Axes>"
      ]
     },
     "metadata": {
      "needs_background": "light"
     },
     "output_type": "display_data"
    }
   ],
   "source": [
    "# distribution of emotions\n",
    "plt.figure(figsize=(10, 6))\n",
    "sns.countplot(data=clean_data, x='emotion', order=clean_data['emotion'].value_counts().index)\n",
    "plt.title('Distribution of Emotions')\n",
    "plt.xticks(rotation=45)\n",
    "plt.show()\n",
    "\n",
    "# this chart shows some a significant imbalance in the dataset. lets do some resampling\n",
    "# Lets try using the SMOTE technique (Synthetic Minority Over-sampling):"
   ]
  },
  {
   "cell_type": "code",
   "execution_count": 192,
   "id": "d3078bae",
   "metadata": {},
   "outputs": [
    {
     "name": "stdout",
     "output_type": "stream",
     "text": [
      "Unique emotions after mapping: ['angry' 'disgust' 'fear' 'happy' 'neutral' 'sad' 'unknown']\n"
     ]
    }
   ],
   "source": [
    "# Convert all emotion labels to lowercase to standardize\n",
    "clean_data['emotion'] = clean_data['emotion'].str.lower()\n",
    "\n",
    "# Map similar emotions to a single label\n",
    "clean_data['emotion'] = clean_data['emotion'].replace({\n",
    "    'surprised': 'surprise',\n",
    "    'sadness': 'sad',\n",
    "    'fearful': 'fear',\n",
    "    'pleasant': 'happy',\n",
    "    'calm': 'neutral',\n",
    "    'surprise': 'fear'        \n",
    "})\n",
    "\n",
    "# Check the unique values after standardization\n",
    "unique_emotions = clean_data['emotion'].unique()\n",
    "print(\"Unique emotions after mapping:\", unique_emotions)"
   ]
  },
  {
   "cell_type": "code",
   "execution_count": 194,
   "id": "ce81238b",
   "metadata": {},
   "outputs": [
    {
     "data": {
      "image/png": "[encoded data removed]",
      "text/plain": [
       "<Figure size 720x432 with 1 Axes>"
      ]
     },
     "metadata": {
      "needs_background": "light"
     },
     "output_type": "display_data"
    }
   ],
   "source": [
    "plt.figure(figsize=(10, 6))\n",
    "sns.countplot(data=clean_data, x='emotion', order=clean_data['emotion'].value_counts().index)\n",
    "plt.title('Distribution of Emotions')\n",
    "plt.xticks(rotation=45)\n",
    "plt.show()"
   ]
  },
  {
   "cell_type": "code",
   "execution_count": 195,
   "id": "2937c7bd",
   "metadata": {},
   "outputs": [],
   "source": [
    "# Drop rows where the 'emotion' column has the value 'unknown'\n",
    "clean_data = clean_data[clean_data['emotion'] != 'unknown']"
   ]
  },
  {
   "cell_type": "markdown",
   "id": "31195362",
   "metadata": {},
   "source": [
    "# Model Iterations\n"
   ]
  },
  {
   "cell_type": "markdown",
   "id": "f4e15225",
   "metadata": {},
   "source": [
    "#### Evaluation v1:\n",
    "\n",
    "Classification Report (grid search)\n",
    "\n",
    "|               | precision | recall | f1-score | support |\n",
    "|---------------|-----------|--------|----------|---------|\n",
    "| accuracy      |           |        |          | 0.46    | 2433    |\n",
    "| macro avg     | 0.43      | 0.43   | 0.43     | 2433    |\n",
    "| weighted avg  | 0.46      | 0.46   | 0.45     | 2433    |\n",
    "\n",
    "#### Evaluation v2:\n",
    "\n",
    "Classification Report (grid search with SMOTE):\n",
    "\n",
    "|               | precision | recall | f1-score | support |\n",
    "|---------------|-----------|--------|----------|---------|\n",
    "| accuracy      |           |        |          | 0.71    | 5962    |\n",
    "| macro avg     | 0.70      | 0.71   | 0.70     | 5962    |\n",
    "| weighted avg  | 0.70      | 0.71   | 0.71     | 5962    |\n",
    "\n",
    "#### Evaluation v3:\n",
    "\n",
    "Classification Report (decision tree w/ augmentation and 1500 samples per category):\n",
    "\n",
    "|               | precision | recall | f1-score | support |\n",
    "|---------------|-----------|--------|----------|---------|\n",
    "| accuracy      |           |        |          | 0.58    | 2700    |\n",
    "| macro avg     | 0.57      | 0.58   | 0.57     | 2700    |\n",
    "| weighted avg  | 0.57      | 0.58   | 0.57     | 2700    |\n",
    "\n",
    "Accuracy of 59%; certainly an imporovement! But nothing substantial. \n",
    "\n",
    "Despite evening the distribution, we are still not seeing the model perform well. This is likely because 7k records\n",
    "is probably not enough to get good predictive capacity over our 7 categories. \n",
    "\n",
    "the f1-scores that indicate weaknesses in our model is: disgust, fear, happy. this tells me that maybe we shouldn't have deleted \n",
    "\n",
    "Let's engineer the categories into pos/neg binary classification and see if that improves our results.\n",
    "\n",
    "#### Evaluation v4:\n",
    "\n",
    "Classification Report (decision tree w/ even distribution, no deleting records):\n",
    "\n",
    "|               | precision | recall | f1-score | support |\n",
    "|---------------|-----------|--------|----------|---------|\n",
    "| accuracy      |           |        |          | 0.56    | 3135    |\n",
    "| macro avg     | 0.57      | 0.59   | 0.57     | 3135    |\n",
    "| weighted avg  | 0.55      | 0.56   | 0.54     | 3135    |\n",
    "\n",
    "Accuracy of 55.34%: While this may seem like a drop, it's important to note that the dataset has been augmented, which can affect the accuracy score. \n",
    "\n",
    "F1-scores: \n",
    "- the f1-scores for underrepresented classes like 'disgust', 'fear', and 'happy' slightly improved compared to previous version.\n",
    "- the f1-score for 'neutral' decreased slightly (0.02), which could be due to the additional augmented samples\n",
    "- the f1-score for the other classes either remained or improved marginally\n",
    "\n",
    "Precision / Recall:\n",
    "- the recall for underrepresented classes has generally improved\n",
    "- however, the precision (ability to not label negative instances as positive) has decreased, which could be due to the introduction of noise in the augmented data."
   ]
  },
  {
   "cell_type": "markdown",
   "id": "7f6574dd",
   "metadata": {},
   "source": [
    "#### Evaluation v5\n",
    "\n",
    "Classification Report (logistic regression for **binary classification**):  \n",
    "\n",
    "| | precision | recall | f1-score | support |\n",
    "|---------------|-----------|--------|----------|---------|\n",
    "| Negative | 0.65 | 0.74 | 0.69 | 1536 |\n",
    "| Positive | 0.36 | 0.27 | 0.31 | 825 |\n",
    "| accuracy | | | | 0.57 | 2361 |\n",
    "| macro avg | 0.51 | 0.51 | 0.50 | 2361 |\n",
    "| weighted avg | 0.55 | 0.57 | 0.56 | 2361 |\n",
    "\n",
    "As suspected, the 'positive' data suffered due to imbalanced classes. \n",
    "\n",
    "Let's augment some of the audio for the 'positive' class, and bring it closer to the negative class balance.\n",
    "\n",
    "#### Evaluation v6\n",
    "Classification Report (logistic regression for **binary classification with augmented data**): \n",
    "\n",
    "| | precision | recall | f1-score | support |\n",
    "|---------------|-----------|--------|----------|---------|\n",
    "| Negative | 0.65 | 0.74 | 0.69 | 1536 |\n",
    "| Positive | 0.36 | 0.27 | 0.31 | 825 |\n",
    "| accuracy | | | | 0.57 | 2361 |\n",
    "| macro avg | 0.51 | 0.51 | 0.50 | 2361 |\n",
    "| weighted avg | 0.55 | 0.57 | 0.56 | 2361 |\n",
    "\n",
    "Having the same values as v5, I believe where we split the data caused data leakage."
   ]
  },
  {
   "cell_type": "markdown",
   "id": "66aa530f",
   "metadata": {},
   "source": [
    "#### Evaluation v7\n",
    "\n",
    "Classification Report (neural network for multiclassification):\n",
    "\n",
    "| Emotion   | Precision | Recall | F1-Score | Support |\n",
    "|-----------|-----------|--------|----------|---------|\n",
    "| angry     | 0.66      | 0.60   | 0.63     | 405     |\n",
    "| calm      | 0.74      | 0.86   | 0.79     | 291     |\n",
    "| disgust   | 0.52      | 0.30   | 0.38     | 383     |\n",
    "| fear      | 0.71      | 0.22   | 0.34     | 388     |\n",
    "| happy     | 0.39      | 0.40   | 0.39     | 364     |\n",
    "| neutral   | 0.42      | 0.57   | 0.49     | 367     |\n",
    "| pleasant  | 0.75      | 0.94   | 0.84     | 283     |\n",
    "| sad       | 0.49      | 0.59   | 0.53     | 374     |\n",
    "| surprise  | 0.58      | 0.89   | 0.70     | 280     |\n",
    "| **accuracy** |           |        | 0.57     | 3135    |\n",
    "| **macro avg** | 0.59      | 0.60   | 0.57     | 3135    |\n",
    "| **weighted avg** | 0.58      | 0.57   | 0.55     | 3135    |\n",
    "\n",
    "Not much better. Tried better feature extraction for only 2% increase (59%)\n",
    "\n",
    "\n",
    "#### Evaluation v8:\n",
    "\n",
    "Classification Report (Convolutional Neural Network with better features):\n",
    "\n",
    "| Emotion    | Precision | Recall | F1-Score | Support |\n",
    "|------------|-----------|--------|----------|---------|\n",
    "| Angry      | 0.72      | 0.70   | 0.71     | 405     |\n",
    "| Calm       | 0.77      | 0.97   | 0.86     | 291     |\n",
    "| Disgust    | 0.45      | 0.31   | 0.37     | 383     |\n",
    "| Fear       | 0.63      | 0.27   | 0.38     | 388     |\n",
    "| Happy      | 0.46      | 0.43   | 0.44     | 364     |\n",
    "| Neutral    | 0.49      | 0.63   | 0.55     | 367     |\n",
    "| Pleasant   | 0.88      | 0.94   | 0.91     | 283     |\n",
    "| Sad        | 0.51      | 0.63   | 0.57     | 374     |\n",
    "| Surprise   | 0.70      | 0.94   | 0.80     | 280     |\n",
    "| **Accuracy** |           |        | **0.62** | 3135    |\n",
    "| **Macro Avg** | 0.62      | 0.65   | 0.62     | 3135    |\n",
    "| **Weighted Avg** | 0.61      | 0.62   | 0.60     | 3135    |\n",
    "\n",
    "Seeing some progress! This makes sense, since CNN's are better for audio data. Lets try a more advanced CNN Architecture, incorperating Batch Normalization, Dropout, and L2 Regularization."
   ]
  },
  {
   "cell_type": "code",
   "execution_count": 196,
   "id": "08d28e9b",
   "metadata": {},
   "outputs": [],
   "source": [
    "# audio augmentation to help with uneven data\n",
    "def augment_audio(data, sr):\n",
    "    # Time Stretching\n",
    "    try:\n",
    "        stretched_data = librosa.effects.time_stretch(data, rate=1.1)\n",
    "    except Exception as e:\n",
    "        stretched_data = data\n",
    "    \n",
    "    # Shifting \n",
    "    shift = np.random.randint(sr)\n",
    "    shifted_data = np.roll(data, shift)\n",
    "    \n",
    "    # Volume adjustment\n",
    "    amplitude_scale = np.random.uniform(low=0.8, high=1.2)\n",
    "    adjusted_volume_data = data * amplitude_scale\n",
    "    \n",
    "    # Randomly choose one of the augmentation methods to apply\n",
    "    augmentation_methods = [stretched_data, shifted_data, adjusted_volume_data]\n",
    "    \n",
    "    # Check for invalid values in augmentation methods\n",
    "    valid_methods = [method for method in augmentation_methods if len(method) > 0 and not np.isnan(method).any() and not np.isinf(method).any()]\n",
    "    \n",
    "    if valid_methods:\n",
    "        augmented_data = random.choice(valid_methods)\n",
    "    else:\n",
    "        augmented_data = data\n",
    "    \n",
    "    return augmented_data"
   ]
  },
  {
   "cell_type": "markdown",
   "id": "19c847a8",
   "metadata": {},
   "source": [
    "## Latest Model: Multiclassification"
   ]
  },
  {
   "cell_type": "markdown",
   "id": "0350679e",
   "metadata": {},
   "source": [
    "### Data Preparation"
   ]
  },
  {
   "cell_type": "markdown",
   "id": "32a61611",
   "metadata": {},
   "source": [
    "\n",
    "### Encode Labels and Split Data"
   ]
  },
  {
   "cell_type": "code",
   "execution_count": 198,
   "id": "67efd108",
   "metadata": {
    "scrolled": true
   },
   "outputs": [
    {
     "name": "stdout",
     "output_type": "stream",
     "text": [
      "Emotion to Encoded Integer Mapping:  {'angry': 0, 'disgust': 1, 'fear': 2, 'happy': 3, 'neutral': 4, 'sad': 5}\n",
      "X_train shape: (9441, 12), y_train shape: (9441, 6)\n",
      "X_test shape: (2361, 12), y_test shape: (2361, 6)\n"
     ]
    }
   ],
   "source": [
    "# Make a copy of the clean_data DataFrame\n",
    "data = clean_data.copy()\n",
    "\n",
    "# Ensure the LabelEncoder is fit on all unique emotion labels\n",
    "le = LabelEncoder()\n",
    "le.fit(data['emotion']) \n",
    "\n",
    "# Encode the emotions for classification\n",
    "data['emotion_encoded'] = le.transform(data['emotion'])  # Store encoded labels in a new column\n",
    "\n",
    "# Create a dictionary to map encoded integers back to the original emotion strings\n",
    "encoded_dict = dict(zip(le.classes_, le.transform(le.classes_)))\n",
    "print(\"Emotion to Encoded Integer Mapping: \", encoded_dict)\n",
    "\n",
    "# One-hot encode the labels for neural network output\n",
    "one_hot_encoder = OneHotEncoder(sparse_output=False)  # Ensure sparse_output=False to get a dense array\n",
    "y = one_hot_encoder.fit_transform(data['emotion_encoded'].values.reshape(-1, 1))\n",
    "\n",
    "# Store the labels separately for resampling (if needed)\n",
    "y_labels = data['emotion_encoded']\n",
    "\n",
    "# Drop columns that are not features for model training\n",
    "X = data.drop(['emotion', 'emotion_encoded', 'path', 'filename'], axis=1, errors='ignore')\n",
    "\n",
    "# Split the data into training and test sets (80% train, 20% test)\n",
    "X_train, X_test, y_train, y_test, y_train_labels, y_test_labels = train_test_split(\n",
    "    X, y, y_labels, test_size=0.2, random_state=42)\n",
    "\n",
    "# Check the shape of the training and test data to confirm everything is correct\n",
    "print(f\"X_train shape: {X_train.shape}, y_train shape: {y_train.shape}\")\n",
    "print(f\"X_test shape: {X_test.shape}, y_test shape: {y_test.shape}\")"
   ]
  },
  {
   "cell_type": "markdown",
   "id": "6cf38e73",
   "metadata": {},
   "source": [
    "### Data Cleaning"
   ]
  },
  {
   "cell_type": "code",
   "execution_count": 199,
   "id": "3f96fdbf",
   "metadata": {},
   "outputs": [
    {
     "name": "stdout",
     "output_type": "stream",
     "text": [
      "mfccs_mean                    0\n",
      "mfccs_std                     0\n",
      "mfccs_skewness                0\n",
      "mfccs_kurtosis                0\n",
      "spectral_centroid_mean        0\n",
      "spectral_centroid_std         0\n",
      "spectral_centroid_skewness    0\n",
      "spectral_centroid_kurtosis    0\n",
      "chroma                        0\n",
      "zero_crossing_rate            0\n",
      "rms                           0\n",
      "pitch                         0\n",
      "dtype: int64\n",
      "mfccs_mean                    0\n",
      "mfccs_std                     0\n",
      "mfccs_skewness                0\n",
      "mfccs_kurtosis                0\n",
      "spectral_centroid_mean        0\n",
      "spectral_centroid_std         0\n",
      "spectral_centroid_skewness    0\n",
      "spectral_centroid_kurtosis    0\n",
      "chroma                        0\n",
      "zero_crossing_rate            0\n",
      "rms                           0\n",
      "pitch                         0\n",
      "dtype: int64\n"
     ]
    }
   ],
   "source": [
    "# Function to flatten nested lists or arrays into a single list\n",
    "def flatten_nested_list(value):\n",
    "    if isinstance(value, (list, np.ndarray)):\n",
    "        return [item for sublist in value for item in (sublist if isinstance(sublist, (list, np.ndarray)) else [sublist])]\n",
    "    else:\n",
    "        return [value]\n",
    "\n",
    "# Columns that may contain nested lists\n",
    "columns_to_flatten = ['mfccs_mean', 'mfccs_std', 'mfccs_skewness', 'mfccs_kurtosis', \n",
    "                      'chroma', 'zero_crossing_rate', 'rms', 'pitch']\n",
    "\n",
    "# Flatten and convert lists of length 1 to scalars in the training set\n",
    "for col in columns_to_flatten:\n",
    "    X_train[col] = X_train[col].apply(flatten_nested_list)\n",
    "    X_train[col] = X_train[col].apply(lambda x: x[0] if isinstance(x, list) and len(x) == 1 else x)\n",
    "\n",
    "# Ensure all columns in the training set are of type float\n",
    "X_train = X_train.astype(float)\n",
    "\n",
    "# Flatten and convert lists of length 1 to scalars in the test set\n",
    "for col in columns_to_flatten:\n",
    "    X_test[col] = X_test[col].apply(flatten_nested_list)\n",
    "    X_test[col] = X_test[col].apply(lambda x: x[0] if isinstance(x, list) and len(x) == 1 else x)\n",
    "\n",
    "# Ensure all columns in the test set are of type float\n",
    "X_test = X_test.astype(float)\n",
    "\n",
    "# Check for missing values\n",
    "print(X_train.isnull().sum())\n",
    "print(X_test.isnull().sum())"
   ]
  },
  {
   "cell_type": "markdown",
   "id": "407b7963",
   "metadata": {},
   "source": [
    "### Reshape Data for CNN Input"
   ]
  },
  {
   "cell_type": "code",
   "execution_count": 202,
   "id": "8a09e3ee",
   "metadata": {},
   "outputs": [
    {
     "name": "stdout",
     "output_type": "stream",
     "text": [
      "Reshaped X_train_aug_cnn shape: (13476, 76, 1)\n",
      "Reshaped X_test_cnn shape: (2361, 12, 1)\n"
     ]
    }
   ],
   "source": [
    "# Reshape the training data for CNN (samples, timesteps, features)\n",
    "X_train_cnn = X_train.values.reshape((X_train.shape[0], X_train.shape[1], 1))\n",
    "X_test_cnn = X_test.values.reshape((X_test.shape[0], X_test.shape[1], 1))\n",
    "\n",
    "print(f\"Reshaped X_train_aug_cnn shape: {X_train_aug_cnn.shape}\")\n",
    "print(f\"Reshaped X_test_cnn shape: {X_test_cnn.shape}\")"
   ]
  },
  {
   "cell_type": "markdown",
   "id": "18992831",
   "metadata": {},
   "source": [
    "### Define CNN Model"
   ]
  },
  {
   "cell_type": "code",
   "execution_count": 204,
   "id": "51e696c8",
   "metadata": {},
   "outputs": [
    {
     "name": "stdout",
     "output_type": "stream",
     "text": [
      "Model: \"sequential_13\"\n",
      "_________________________________________________________________\n",
      " Layer (type)                Output Shape              Param #   \n",
      "=================================================================\n",
      " conv1d_21 (Conv1D)          (None, 10, 32)            128       \n",
      "                                                                 \n",
      " max_pooling1d_16 (MaxPooli  (None, 5, 32)             0         \n",
      " ng1D)                                                           \n",
      "                                                                 \n",
      " conv1d_22 (Conv1D)          (None, 3, 64)             6208      \n",
      "                                                                 \n",
      " max_pooling1d_17 (MaxPooli  (None, 1, 64)             0         \n",
      " ng1D)                                                           \n",
      "                                                                 \n",
      " conv1d_23 (Conv1D)          (None, 1, 128)            8320      \n",
      "                                                                 \n",
      " flatten_5 (Flatten)         (None, 128)               0         \n",
      "                                                                 \n",
      " dense_38 (Dense)            (None, 256)               33024     \n",
      "                                                                 \n",
      " dropout_13 (Dropout)        (None, 256)               0         \n",
      "                                                                 \n",
      " dense_39 (Dense)            (None, 128)               32896     \n",
      "                                                                 \n",
      " dense_40 (Dense)            (None, 64)                8256      \n",
      "                                                                 \n",
      " dense_41 (Dense)            (None, 6)                 390       \n",
      "                                                                 \n",
      "=================================================================\n",
      "Total params: 89222 (348.52 KB)\n",
      "Trainable params: 89222 (348.52 KB)\n",
      "Non-trainable params: 0 (0.00 Byte)\n",
      "_________________________________________________________________\n"
     ]
    }
   ],
   "source": [
    "# Define the CNN model\n",
    "model = Sequential()\n",
    "\n",
    "# First convolutional layer with 32 filters, kernel size of 3, and relu activation\n",
    "model.add(Conv1D(32, kernel_size=3, activation='relu', input_shape=(X_train_cnn.shape[1], 1)))\n",
    "model.add(MaxPooling1D(pool_size=2))  # Max pooling to reduce dimensionality\n",
    "\n",
    "# Second convolutional layer\n",
    "model.add(Conv1D(64, kernel_size=3, activation='relu'))\n",
    "model.add(MaxPooling1D(pool_size=2))\n",
    "\n",
    "# Third convolutional layer\n",
    "# Use kernel_size=1 since the input size has become very small (1 in time dimension)\n",
    "model.add(Conv1D(128, kernel_size=1, activation='relu'))\n",
    "\n",
    "# No further pooling here as the dimension is already small enough\n",
    "\n",
    "# Flatten the output to feed into Dense layers\n",
    "model.add(Flatten())\n",
    "\n",
    "# Fully connected layers\n",
    "model.add(Dense(256, activation='relu'))\n",
    "model.add(Dropout(0.4))  # Dropout to prevent overfitting\n",
    "model.add(Dense(128, activation='relu'))\n",
    "model.add(Dense(64, activation='relu'))\n",
    "\n",
    "# Output layer (number of emotions, use softmax for multiclass classification)\n",
    "model.add(Dense(y_train.shape[1], activation='softmax'))\n",
    "\n",
    "# Compile the model\n",
    "model.compile(optimizer=Adam(), loss='categorical_crossentropy', metrics=['accuracy'])\n",
    "\n",
    "# Summary of the model\n",
    "model.summary()"
   ]
  },
  {
   "cell_type": "markdown",
   "id": "7ba419c0",
   "metadata": {},
   "source": [
    "### Model Training"
   ]
  },
  {
   "cell_type": "code",
   "execution_count": 206,
   "id": "93b1ed9c",
   "metadata": {
    "scrolled": true
   },
   "outputs": [
    {
     "name": "stdout",
     "output_type": "stream",
     "text": [
      "X_train_cnn shape: (9441, 12, 1)\n",
      "y_train shape: (9441, 6)\n",
      "Epoch 1/50\n",
      "236/236 [==============================] - 1s 2ms/step - loss: 4.3298 - accuracy: 0.1709 - val_loss: 1.7889 - val_accuracy: 0.2028\n",
      "Epoch 2/50\n",
      "236/236 [==============================] - 0s 2ms/step - loss: 1.7940 - accuracy: 0.1875 - val_loss: 1.7878 - val_accuracy: 0.2043\n",
      "Epoch 3/50\n",
      "236/236 [==============================] - 0s 2ms/step - loss: 1.7879 - accuracy: 0.1927 - val_loss: 1.7850 - val_accuracy: 0.2102\n",
      "Epoch 4/50\n",
      "236/236 [==============================] - 0s 2ms/step - loss: 1.7905 - accuracy: 0.1907 - val_loss: 1.7864 - val_accuracy: 0.2054\n",
      "Epoch 5/50\n",
      "236/236 [==============================] - 0s 2ms/step - loss: 1.7890 - accuracy: 0.1920 - val_loss: 1.7875 - val_accuracy: 0.2028\n",
      "Epoch 6/50\n",
      "236/236 [==============================] - 0s 2ms/step - loss: 1.7892 - accuracy: 0.1925 - val_loss: 1.7877 - val_accuracy: 0.2028\n",
      "Epoch 7/50\n",
      "236/236 [==============================] - 0s 2ms/step - loss: 1.7891 - accuracy: 0.1898 - val_loss: 1.7876 - val_accuracy: 0.2028\n",
      "Epoch 8/50\n",
      "236/236 [==============================] - 0s 2ms/step - loss: 1.7899 - accuracy: 0.1895 - val_loss: 1.7877 - val_accuracy: 0.2028\n"
     ]
    }
   ],
   "source": [
    "early_stopping = EarlyStopping(monitor='val_loss', patience=5, restore_best_weights=True)\n",
    "\n",
    "# Check the shapes of X_train_cnn and y_train to ensure they match\n",
    "print(f\"X_train_cnn shape: {X_train_cnn.shape}\")\n",
    "print(f\"y_train shape: {y_train.shape}\")\n",
    "\n",
    "# Make sure the number of samples is the same\n",
    "assert X_train_cnn.shape[0] == y_train.shape[0], \"Mismatch between X and y samples.\"\n",
    "\n",
    "# Train the model\n",
    "history = model.fit(X_train_cnn, y_train, validation_split=0.2, epochs=50, batch_size=32, callbacks=[early_stopping])"
   ]
  },
  {
   "cell_type": "markdown",
   "id": "9b460ce4",
   "metadata": {},
   "source": [
    "### Evaluation"
   ]
  },
  {
   "cell_type": "code",
   "execution_count": 208,
   "id": "130d171b",
   "metadata": {},
   "outputs": [
    {
     "name": "stdout",
     "output_type": "stream",
     "text": [
      "Test Loss: 1.7871, Test Accuracy: 0.1944\n",
      "74/74 [==============================] - 0s 717us/step\n",
      "\n",
      "Classification Report:\n",
      "               precision    recall  f1-score   support\n",
      "\n",
      "       angry       0.00      0.00      0.00       362\n",
      "     disgust       0.00      0.00      0.00       385\n",
      "        fear       0.00      0.00      0.00       430\n",
      "       happy       0.19      1.00      0.32       448\n",
      "     neutral       0.00      0.00      0.00       328\n",
      "         sad       0.48      0.03      0.05       408\n",
      "\n",
      "    accuracy                           0.19      2361\n",
      "   macro avg       0.11      0.17      0.06      2361\n",
      "weighted avg       0.12      0.19      0.07      2361\n",
      "\n",
      "Confusion Matrix:\n",
      " [[  0   0   0 362   0   0]\n",
      " [  0   0   0 382   0   3]\n",
      " [  0   0   0 423   0   7]\n",
      " [  0   0   0 448   0   0]\n",
      " [  0   0   0 326   0   2]\n",
      " [  0   0   0 397   0  11]]\n"
     ]
    }
   ],
   "source": [
    "# Evaluate the model on the test set\n",
    "test_loss, test_accuracy = model.evaluate(X_test_cnn, y_test, verbose=0)\n",
    "print(f\"Test Loss: {test_loss:.4f}, Test Accuracy: {test_accuracy:.4f}\")\n",
    "\n",
    "# Predict on the test set\n",
    "y_pred_proba = model.predict(X_test_cnn)\n",
    "y_pred = np.argmax(y_pred_proba, axis=1)  # Get the predicted labels\n",
    "y_test_classes = np.argmax(y_test, axis=1)  # Get the true labels\n",
    "\n",
    "# Print evaluation metrics using the zero_division parameter to handle undefined metrics\n",
    "print(\"\\nClassification Report:\\n\", classification_report(y_test_classes, y_pred, target_names=le.classes_, zero_division=0))  # Set zero_division=0 to handle undefined metrics\n",
    "\n",
    "# Print the confusion matrix\n",
    "print(\"Confusion Matrix:\\n\", confusion_matrix(y_test_classes, y_pred))"
   ]
  },
  {
   "cell_type": "markdown",
   "id": "721bf5aa",
   "metadata": {},
   "source": [
    "## Binary Classification\n",
    "\n",
    "In the most recent report, the model's performance isn't satisfactory for reliably predicting specific emotions. The weighted average precision of 0.55 and F-score of 0.54 indicate that the model struggles to accurately classify the different categories. Having a relatively small dataset of 11,802 records can limit the model's ability to learn and generalize the complex patterns  of emotional recognition in voice. \n",
    "\n",
    "Simplifying the problem into positive/negative sentiments may improve metrics. With reduced complexity, the model could better grasp underlying patterns. Larger class sizes could mitigate data scarcity issues."
   ]
  },
  {
   "cell_type": "markdown",
   "id": "885455d5",
   "metadata": {},
   "source": [
    "I'm going to consider 'neutral' as positive,\n",
    "\n",
    "    1. because we need more 'positive' emotion\n",
    "    2. because in our business problem, 'neutral' is a good thing!"
   ]
  },
  {
   "cell_type": "markdown",
   "id": "818f55b0",
   "metadata": {},
   "source": [
    "### Data Preparation"
   ]
  },
  {
   "cell_type": "code",
   "execution_count": 209,
   "id": "ea249ea1",
   "metadata": {},
   "outputs": [
    {
     "name": "stdout",
     "output_type": "stream",
     "text": [
      "binary_emotion\n",
      "0    7764\n",
      "1    4038\n",
      "Name: count, dtype: int64\n",
      "X_train shape: (9441, 12), X_test shape: (2361, 12)\n",
      "y_train shape: (9441,), y_test shape: (2361,)\n"
     ]
    }
   ],
   "source": [
    "# Define positive and negative emotions\n",
    "positive_emotions = ['happy', 'pleasant', 'surprise', 'calm', 'neutral']\n",
    "negative_emotions = ['sad', 'angry', 'disgust', 'fear']\n",
    "\n",
    "# Copy the clean data and create a binary emotion column\n",
    "bin_data = clean_data.copy()\n",
    "\n",
    "# Create the binary emotion column, set 1 for positive emotions, 0 for negative emotions\n",
    "bin_data['binary_emotion'] = bin_data['emotion'].apply(\n",
    "    lambda x: 1 if x in positive_emotions else 0 if x in negative_emotions else None\n",
    ")\n",
    "\n",
    "# Drop rows where binary_emotion is None (in case there are emotions we don't care about)\n",
    "bin_data.dropna(subset=['binary_emotion'], inplace=True)\n",
    "\n",
    "# Convert the binary_emotion column to integer type\n",
    "bin_data['binary_emotion'] = bin_data['binary_emotion'].astype(int)\n",
    "\n",
    "# Check the distribution of binary emotions (for sanity checking)\n",
    "print(bin_data['binary_emotion'].value_counts())\n",
    "\n",
    "# Drop unnecessary columns like 'emotion', 'path', and 'filename'\n",
    "X = bin_data.drop(['binary_emotion', 'emotion', 'path', 'filename'], axis=1, errors='ignore')\n",
    "y = bin_data['binary_emotion']\n",
    "\n",
    "# Split the dataset into training and testing sets (80% train, 20% test)\n",
    "X_train, X_test, y_train, y_test = train_test_split(X, y, test_size=0.2, random_state=42)\n",
    "\n",
    "# Check the shape of the split datasets\n",
    "print(f\"X_train shape: {X_train.shape}, X_test shape: {X_test.shape}\")\n",
    "print(f\"y_train shape: {y_train.shape}, y_test shape: {y_test.shape}\")"
   ]
  },
  {
   "cell_type": "markdown",
   "id": "4262fecb",
   "metadata": {},
   "source": [
    "### Data Augmentation for Positive Samples"
   ]
  },
  {
   "cell_type": "code",
   "execution_count": null,
   "id": "c26a5121",
   "metadata": {},
   "outputs": [],
   "source": []
  },
  {
   "cell_type": "markdown",
   "id": "975038d5",
   "metadata": {},
   "source": [
    "### Flatten Nested Lists and Arrays"
   ]
  },
  {
   "cell_type": "code",
   "execution_count": 211,
   "id": "3aff1370",
   "metadata": {},
   "outputs": [
    {
     "name": "stdout",
     "output_type": "stream",
     "text": [
      "mfccs_mean                    0\n",
      "mfccs_std                     0\n",
      "mfccs_skewness                0\n",
      "mfccs_kurtosis                0\n",
      "spectral_centroid_mean        0\n",
      "spectral_centroid_std         0\n",
      "spectral_centroid_skewness    0\n",
      "spectral_centroid_kurtosis    0\n",
      "chroma                        0\n",
      "zero_crossing_rate            0\n",
      "rms                           0\n",
      "pitch                         0\n",
      "dtype: int64\n",
      "mfccs_mean                    0\n",
      "mfccs_std                     0\n",
      "mfccs_skewness                0\n",
      "mfccs_kurtosis                0\n",
      "spectral_centroid_mean        0\n",
      "spectral_centroid_std         0\n",
      "spectral_centroid_skewness    0\n",
      "spectral_centroid_kurtosis    0\n",
      "chroma                        0\n",
      "zero_crossing_rate            0\n",
      "rms                           0\n",
      "pitch                         0\n",
      "dtype: int64\n"
     ]
    }
   ],
   "source": [
    "# Check for NaNs in the dataset\n",
    "print(X_test.isna().sum())\n",
    "print(X_train.isna().sum())"
   ]
  },
  {
   "cell_type": "code",
   "execution_count": 212,
   "id": "6ba0e5a7",
   "metadata": {},
   "outputs": [],
   "source": [
    "# Define a utility function to flatten nested lists or arrays\n",
    "def flatten_nested_list(value):\n",
    "    if isinstance(value, (list, np.ndarray)):\n",
    "        return [item for sublist in value for item in (sublist if isinstance(sublist, (list, np.ndarray)) else [sublist])]\n",
    "    else:\n",
    "        return [value]\n",
    "\n",
    "# List of columns that need flattening\n",
    "columns_to_flatten = ['mfccs_mean', 'mfccs_std', 'mfccs_skewness', 'mfccs_kurtosis',\n",
    "                      'chroma', 'zero_crossing_rate', 'rms', 'pitch']\n",
    "\n",
    "# Flatten the columns in the training set\n",
    "for col in columns_to_flatten:\n",
    "    X_train_aug[col] = X_train_aug[col].apply(flatten_nested_list)\n",
    "    X_train_aug[col] = X_train_aug[col].apply(lambda x: x[0] if isinstance(x, list) and len(x) == 1 else x)\n",
    "\n",
    "# Ensure all columns are of type float\n",
    "X_train_aug = X_train_aug.astype(float)\n",
    "\n",
    "# Repeat the process for the test set\n",
    "for col in columns_to_flatten:\n",
    "    X_test[col] = X_test[col].apply(flatten_nested_list)\n",
    "    X_test[col] = X_test[col].apply(lambda x: x[0] if isinstance(x, list) and len(x) == 1 else x)\n",
    "\n",
    "# Ensure all columns in the test set are of type float\n",
    "X_test = X_test.astype(float)"
   ]
  },
  {
   "cell_type": "markdown",
   "id": "43419bee",
   "metadata": {},
   "source": [
    "### Reshape Data for CNN"
   ]
  },
  {
   "cell_type": "code",
   "execution_count": 215,
   "id": "a7ece85a",
   "metadata": {},
   "outputs": [],
   "source": [
    "# Reshape X_train and X_test to be 3D for Conv1D\n",
    "X_train_cnn = X_train.values.reshape((X_train.shape[0], X_train.shape[1], 1))\n",
    "X_test_cnn = X_test.values.reshape((X_test.shape[0], X_test.shape[1], 1))"
   ]
  },
  {
   "cell_type": "markdown",
   "id": "ccc2287c",
   "metadata": {},
   "source": [
    "### Define and Train the CNN Model"
   ]
  },
  {
   "cell_type": "code",
   "execution_count": 216,
   "id": "a68f13b0",
   "metadata": {},
   "outputs": [
    {
     "name": "stdout",
     "output_type": "stream",
     "text": [
      "Model: \"sequential_15\"\n",
      "_________________________________________________________________\n",
      " Layer (type)                Output Shape              Param #   \n",
      "=================================================================\n",
      " conv1d_27 (Conv1D)          (None, 10, 32)            128       \n",
      "                                                                 \n",
      " max_pooling1d_20 (MaxPooli  (None, 5, 32)             0         \n",
      " ng1D)                                                           \n",
      "                                                                 \n",
      " conv1d_28 (Conv1D)          (None, 3, 64)             6208      \n",
      "                                                                 \n",
      " max_pooling1d_21 (MaxPooli  (None, 1, 64)             0         \n",
      " ng1D)                                                           \n",
      "                                                                 \n",
      " conv1d_29 (Conv1D)          (None, 1, 128)            8320      \n",
      "                                                                 \n",
      " flatten_7 (Flatten)         (None, 128)               0         \n",
      "                                                                 \n",
      " dense_46 (Dense)            (None, 256)               33024     \n",
      "                                                                 \n",
      " dropout_15 (Dropout)        (None, 256)               0         \n",
      "                                                                 \n",
      " dense_47 (Dense)            (None, 128)               32896     \n",
      "                                                                 \n",
      " dense_48 (Dense)            (None, 64)                8256      \n",
      "                                                                 \n",
      " dense_49 (Dense)            (None, 1)                 65        \n",
      "                                                                 \n",
      "=================================================================\n",
      "Total params: 88897 (347.25 KB)\n",
      "Trainable params: 88897 (347.25 KB)\n",
      "Non-trainable params: 0 (0.00 Byte)\n",
      "_________________________________________________________________\n",
      "X_train_cnn shape: (9441, 12, 1)\n",
      "y_train shape: (9441,)\n",
      "Epoch 1/50\n",
      "236/236 [==============================] - 2s 2ms/step - loss: 1.9503 - accuracy: 0.5734 - val_loss: 0.6700 - val_accuracy: 0.6019\n",
      "Epoch 2/50\n",
      "236/236 [==============================] - 0s 2ms/step - loss: 0.6937 - accuracy: 0.6188 - val_loss: 0.6496 - val_accuracy: 0.6321\n",
      "Epoch 3/50\n",
      "236/236 [==============================] - 0s 2ms/step - loss: 0.6781 - accuracy: 0.6357 - val_loss: 0.6494 - val_accuracy: 0.6474\n",
      "Epoch 4/50\n",
      "236/236 [==============================] - 0s 2ms/step - loss: 0.6587 - accuracy: 0.6441 - val_loss: 0.6510 - val_accuracy: 0.6474\n",
      "Epoch 5/50\n",
      "236/236 [==============================] - 0s 2ms/step - loss: 0.6635 - accuracy: 0.6423 - val_loss: 0.6477 - val_accuracy: 0.6474\n",
      "Epoch 6/50\n",
      "236/236 [==============================] - 0s 2ms/step - loss: 0.6519 - accuracy: 0.6498 - val_loss: 0.6528 - val_accuracy: 0.6474\n",
      "Epoch 7/50\n",
      "236/236 [==============================] - 0s 2ms/step - loss: 0.6517 - accuracy: 0.6471 - val_loss: 0.6456 - val_accuracy: 0.6474\n",
      "Epoch 8/50\n",
      "236/236 [==============================] - 0s 2ms/step - loss: 0.6462 - accuracy: 0.6540 - val_loss: 0.6472 - val_accuracy: 0.6490\n",
      "Epoch 9/50\n",
      "236/236 [==============================] - 0s 2ms/step - loss: 0.6474 - accuracy: 0.6499 - val_loss: 0.6505 - val_accuracy: 0.6474\n",
      "Epoch 10/50\n",
      "236/236 [==============================] - 0s 2ms/step - loss: 0.6460 - accuracy: 0.6537 - val_loss: 0.6544 - val_accuracy: 0.6353\n",
      "Epoch 11/50\n",
      "236/236 [==============================] - 0s 2ms/step - loss: 0.6429 - accuracy: 0.6514 - val_loss: 0.6436 - val_accuracy: 0.6480\n",
      "Epoch 12/50\n",
      "236/236 [==============================] - 0s 2ms/step - loss: 0.6426 - accuracy: 0.6532 - val_loss: 0.6446 - val_accuracy: 0.6474\n",
      "Epoch 13/50\n",
      "236/236 [==============================] - 0s 2ms/step - loss: 0.6416 - accuracy: 0.6531 - val_loss: 0.6526 - val_accuracy: 0.6474\n",
      "Epoch 14/50\n",
      "236/236 [==============================] - 0s 2ms/step - loss: 0.6430 - accuracy: 0.6544 - val_loss: 0.6468 - val_accuracy: 0.6474\n",
      "Epoch 15/50\n",
      "236/236 [==============================] - 0s 2ms/step - loss: 0.6442 - accuracy: 0.6533 - val_loss: 0.6463 - val_accuracy: 0.6474\n",
      "Epoch 16/50\n",
      "236/236 [==============================] - 0s 2ms/step - loss: 0.6402 - accuracy: 0.6545 - val_loss: 0.6408 - val_accuracy: 0.6474\n",
      "Epoch 17/50\n",
      "236/236 [==============================] - 0s 2ms/step - loss: 0.6442 - accuracy: 0.6559 - val_loss: 0.6464 - val_accuracy: 0.6474\n",
      "Epoch 18/50\n",
      "236/236 [==============================] - 0s 2ms/step - loss: 0.6412 - accuracy: 0.6536 - val_loss: 0.6458 - val_accuracy: 0.6474\n",
      "Epoch 19/50\n",
      "236/236 [==============================] - 0s 2ms/step - loss: 0.6415 - accuracy: 0.6514 - val_loss: 0.6465 - val_accuracy: 0.6474\n",
      "Epoch 20/50\n",
      "236/236 [==============================] - 0s 2ms/step - loss: 0.6415 - accuracy: 0.6532 - val_loss: 0.6471 - val_accuracy: 0.6474\n",
      "Epoch 21/50\n",
      "236/236 [==============================] - 0s 2ms/step - loss: 0.6449 - accuracy: 0.6552 - val_loss: 0.6437 - val_accuracy: 0.6474\n",
      "Test Loss: 0.6265, Test Accuracy: 0.6713\n"
     ]
    }
   ],
   "source": [
    "# Define the CNN model for binary classification\n",
    "model = Sequential()\n",
    "\n",
    "# First convolutional layer\n",
    "model.add(Conv1D(32, kernel_size=3, activation='relu', input_shape=(X_train_cnn.shape[1], 1)))\n",
    "model.add(MaxPooling1D(pool_size=2))\n",
    "\n",
    "# Second convolutional layer\n",
    "model.add(Conv1D(64, kernel_size=3, activation='relu'))\n",
    "model.add(MaxPooling1D(pool_size=2))\n",
    "\n",
    "# Third convolutional layer (small kernel since input size is small)\n",
    "model.add(Conv1D(128, kernel_size=1, activation='relu'))\n",
    "\n",
    "# Flatten the output for fully connected layers\n",
    "model.add(Flatten())\n",
    "\n",
    "# Fully connected layers\n",
    "model.add(Dense(256, activation='relu'))\n",
    "model.add(Dropout(0.4))\n",
    "model.add(Dense(128, activation='relu'))\n",
    "model.add(Dense(64, activation='relu'))\n",
    "\n",
    "# Output layer for binary classification (use sigmoid for binary classification)\n",
    "model.add(Dense(1, activation='sigmoid'))\n",
    "\n",
    "# Compile the model\n",
    "model.compile(optimizer=Adam(), loss='binary_crossentropy', metrics=['accuracy'])\n",
    "\n",
    "# Print the model summary\n",
    "model.summary()\n",
    "\n",
    "# Define early stopping to prevent overfitting\n",
    "early_stopping = EarlyStopping(monitor='val_loss', patience=5, restore_best_weights=True)\n",
    "\n",
    "# Check the shapes of X_train and y_train to ensure they match\n",
    "print(f\"X_train_cnn shape: {X_train_cnn.shape}\")\n",
    "print(f\"y_train shape: {y_train.shape}\")\n",
    "\n",
    "# Ensure there is no mismatch between X_train and y_train\n",
    "assert X_train_cnn.shape[0] == y_train.shape[0], \"Mismatch between X and y samples.\"\n",
    "\n",
    "# Train the model\n",
    "history = model.fit(X_train_cnn, y_train, validation_split=0.2, epochs=50, batch_size=32, callbacks=[early_stopping])\n",
    "\n",
    "# Evaluate the model on the test set\n",
    "test_loss, test_accuracy = model.evaluate(X_test_cnn, y_test, verbose=0)\n",
    "print(f\"Test Loss: {test_loss:.4f}, Test Accuracy: {test_accuracy:.4f}\")"
   ]
  },
  {
   "cell_type": "markdown",
   "id": "61130d0b",
   "metadata": {},
   "source": [
    "### Model Evaluation"
   ]
  },
  {
   "cell_type": "code",
   "execution_count": null,
   "id": "9f53245d",
   "metadata": {},
   "outputs": [],
   "source": [
    "# Predict probabilities and convert to binary predictions\n",
    "y_pred_proba = model.predict(X_test_cnn)\n",
    "y_pred = (y_pred_proba > 0.5).astype(int).flatten()\n",
    "\n",
    "# Print classification metrics\n",
    "print(\"\\nClassification Report:\\n\", classification_report(y_test, y_pred))\n",
    "\n",
    "# Print confusion matrix\n",
    "print(\"Confusion Matrix:\\n\", confusion_matrix(y_test, y_pred))"
   ]
  },
  {
   "cell_type": "markdown",
   "id": "e1d8910c",
   "metadata": {},
   "source": [
    "---\n",
    "\n",
    "Let's re-approach, and build a neural network model (which should me more appropriate for audio data!)\n",
    "\n",
    "##"
   ]
  }
 ],
 "metadata": {
  "kernelspec": {
   "display_name": "Python (learn-env)",
   "language": "python",
   "name": "learn-env"
  },
  "language_info": {
   "codemirror_mode": {
    "name": "ipython",
    "version": 3
   },
   "file_extension": ".py",
   "mimetype": "text/x-python",
   "name": "python",
   "nbconvert_exporter": "python",
   "pygments_lexer": "ipython3",
   "version": "3.8.5"
  }
 },
 "nbformat": 4,
 "nbformat_minor": 5
}
